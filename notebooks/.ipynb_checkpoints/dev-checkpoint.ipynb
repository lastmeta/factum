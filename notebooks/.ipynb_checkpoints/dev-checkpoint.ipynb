{
 "cells": [
  {
   "cell_type": "markdown",
   "metadata": {},
   "source": [
    "# Base Class"
   ]
  },
  {
   "cell_type": "code",
   "execution_count": 1,
   "metadata": {},
   "outputs": [],
   "source": [
    "class Function():\n",
    "    '''\n",
    "    this is like a function that is responsible for getting its own inputs \n",
    "    this obejct is strictly serial. in a real actor it would have timeouts\n",
    "    and parallel ability to communicate with many nodes at once.\n",
    "    '''\n",
    "    \n",
    "    def __init__(self, inputs: dict = None):\n",
    "        self.set_inputs(inputs=inputs or {})\n",
    "        self.clear(memory=True)\n",
    "    \n",
    "    def set_inputs(self, inputs: dict):\n",
    "        self.inputs = inputs\n",
    "        self.kwargs = {name: None for name in self.inputs.keys()}\n",
    "\n",
    "    def clear(self, memory: bool = False):\n",
    "        self.cached = False\n",
    "        self.getout = False\n",
    "        if memory:\n",
    "            self.output = None\n",
    "            self.latest = None\n",
    "\n",
    "    def run(self, gas: int = 1, verbose: bool = False):\n",
    "        '''\n",
    "        gas can specify if we should pull from cache or not in this way:\n",
    "        \n",
    "        0 - return cache if you have it, otherwise get your inputs and do your function\n",
    "        1 - ask inputs for cached and run your own functionality (default)\n",
    "        2 - when you ask your inputs for data, make sure they recompute instead of cache\n",
    "        3 - when your inputs ask for their inputs, make sure they recompute...\n",
    "        4+ - so on and so forth...\n",
    "        -1 - infinite gas no matter what. (will lead to an infinite loop in a non-dag structure)\n",
    "        \n",
    "\n",
    "        There's no mechanism to force a DAG structure so force_refresh_all and force_refresh_while are\n",
    "        not suggested practice as it can lead to infinite loops\n",
    "        '''\n",
    "        if gas == 0 and self.cached:\n",
    "            pass\n",
    "        elif gas == 0 and not self.cached:\n",
    "            self.aquire(gas=0)\n",
    "            self.output = self.function()\n",
    "            self.cached = True\n",
    "        elif gas >= 1:\n",
    "            self.aquire(gas=gas - 1)\n",
    "            self.output = self.function()\n",
    "            self.cached = True\n",
    "        elif gas == -1:\n",
    "            self.aquire(gas)\n",
    "            self.output = self.function()\n",
    "            self.cached = True\n",
    "        else:\n",
    "            self.aquire(0)\n",
    "        return self.get()\n",
    "\n",
    "    def aquire(self, gas: int = 0):\n",
    "        for name, function_object in self.inputs.items():\n",
    "            self.kwargs[name] = function_object.run(gas)\n",
    "        \n",
    "    def get(self):\n",
    "        return self.output\n",
    "\n",
    "    def function(self):\n",
    "        ''' main '''\n",
    "        return self.output"
   ]
  },
  {
   "cell_type": "markdown",
   "metadata": {},
   "source": [
    "# Examples"
   ]
  },
  {
   "cell_type": "code",
   "execution_count": 2,
   "metadata": {},
   "outputs": [],
   "source": [
    "class A(Function):\n",
    "    \n",
    "    def __init__(self, inputs: dict = None):\n",
    "        super(A, self).__init__(inputs)\n",
    "        \n",
    "    def function(self):\n",
    "        print('A running!')\n",
    "        return 1"
   ]
  },
  {
   "cell_type": "code",
   "execution_count": 3,
   "metadata": {},
   "outputs": [],
   "source": [
    "a = A()"
   ]
  },
  {
   "cell_type": "code",
   "execution_count": 4,
   "metadata": {},
   "outputs": [
    {
     "data": {
      "text/plain": [
       "{}"
      ]
     },
     "execution_count": 4,
     "metadata": {},
     "output_type": "execute_result"
    }
   ],
   "source": [
    "a.inputs"
   ]
  },
  {
   "cell_type": "code",
   "execution_count": 5,
   "metadata": {},
   "outputs": [
    {
     "data": {
      "text/plain": [
       "False"
      ]
     },
     "execution_count": 5,
     "metadata": {},
     "output_type": "execute_result"
    }
   ],
   "source": [
    "a.cached"
   ]
  },
  {
   "cell_type": "code",
   "execution_count": 6,
   "metadata": {},
   "outputs": [
    {
     "name": "stdout",
     "output_type": "stream",
     "text": [
      "None\n"
     ]
    }
   ],
   "source": [
    "print(a.output)"
   ]
  },
  {
   "cell_type": "code",
   "execution_count": 7,
   "metadata": {},
   "outputs": [
    {
     "name": "stdout",
     "output_type": "stream",
     "text": [
      "A running!\n"
     ]
    },
    {
     "data": {
      "text/plain": [
       "1"
      ]
     },
     "execution_count": 7,
     "metadata": {},
     "output_type": "execute_result"
    }
   ],
   "source": [
    "a.run()"
   ]
  },
  {
   "cell_type": "code",
   "execution_count": 8,
   "metadata": {},
   "outputs": [
    {
     "name": "stdout",
     "output_type": "stream",
     "text": [
      "1\n"
     ]
    }
   ],
   "source": [
    "print(a.output)"
   ]
  },
  {
   "cell_type": "code",
   "execution_count": 37,
   "metadata": {},
   "outputs": [],
   "source": [
    "class B(Function):\n",
    "    def function(self):\n",
    "        print('B running!')\n",
    "        return 2"
   ]
  },
  {
   "cell_type": "code",
   "execution_count": 38,
   "metadata": {},
   "outputs": [],
   "source": [
    "b = B()"
   ]
  },
  {
   "cell_type": "code",
   "execution_count": 39,
   "metadata": {},
   "outputs": [],
   "source": [
    "# b.run()"
   ]
  },
  {
   "cell_type": "code",
   "execution_count": 40,
   "metadata": {},
   "outputs": [
    {
     "name": "stdout",
     "output_type": "stream",
     "text": [
      "None\n"
     ]
    }
   ],
   "source": [
    "print(b.output)"
   ]
  },
  {
   "cell_type": "code",
   "execution_count": 41,
   "metadata": {
    "scrolled": true
   },
   "outputs": [
    {
     "name": "stdout",
     "output_type": "stream",
     "text": [
      "False\n"
     ]
    }
   ],
   "source": [
    "print(b.cached)"
   ]
  },
  {
   "cell_type": "code",
   "execution_count": 14,
   "metadata": {},
   "outputs": [],
   "source": [
    "class C(Function):\n",
    "    \n",
    "    def __init__(self, inputs: dict = None):\n",
    "        super(C, self).__init__(inputs)\n",
    "        \n",
    "    def function(self):\n",
    "        print('C running!')\n",
    "        return self.kwargs['A'] + self.kwargs['B']"
   ]
  },
  {
   "cell_type": "code",
   "execution_count": 15,
   "metadata": {},
   "outputs": [],
   "source": [
    "c = C({'A': a, 'B': b})"
   ]
  },
  {
   "cell_type": "code",
   "execution_count": 16,
   "metadata": {},
   "outputs": [
    {
     "data": {
      "text/plain": [
       "{'A': None, 'B': None}"
      ]
     },
     "execution_count": 16,
     "metadata": {},
     "output_type": "execute_result"
    }
   ],
   "source": [
    "c.kwargs"
   ]
  },
  {
   "cell_type": "code",
   "execution_count": 17,
   "metadata": {},
   "outputs": [
    {
     "name": "stdout",
     "output_type": "stream",
     "text": [
      "B running!\n"
     ]
    }
   ],
   "source": [
    "c.aquire()"
   ]
  },
  {
   "cell_type": "code",
   "execution_count": 18,
   "metadata": {},
   "outputs": [
    {
     "data": {
      "text/plain": [
       "{'A': 1, 'B': 2}"
      ]
     },
     "execution_count": 18,
     "metadata": {},
     "output_type": "execute_result"
    }
   ],
   "source": [
    "c.kwargs"
   ]
  },
  {
   "cell_type": "code",
   "execution_count": 19,
   "metadata": {},
   "outputs": [
    {
     "data": {
      "text/plain": [
       "False"
      ]
     },
     "execution_count": 19,
     "metadata": {},
     "output_type": "execute_result"
    }
   ],
   "source": [
    "c.cached"
   ]
  },
  {
   "cell_type": "code",
   "execution_count": 20,
   "metadata": {},
   "outputs": [
    {
     "name": "stdout",
     "output_type": "stream",
     "text": [
      "C running!\n"
     ]
    },
    {
     "data": {
      "text/plain": [
       "3"
      ]
     },
     "execution_count": 20,
     "metadata": {},
     "output_type": "execute_result"
    }
   ],
   "source": [
    "c.run()"
   ]
  },
  {
   "cell_type": "code",
   "execution_count": 21,
   "metadata": {},
   "outputs": [],
   "source": [
    "class D(Function):\n",
    "    \n",
    "    def __init__(self, inputs: dict = None):\n",
    "        super(D, self).__init__(inputs)\n",
    "        \n",
    "    def function(self):\n",
    "        return self.transformation(**self.kwargs)\n",
    "    \n",
    "    def transformation(self, **kw):\n",
    "        print('D running!')\n",
    "        return kw['M']+1"
   ]
  },
  {
   "cell_type": "code",
   "execution_count": 22,
   "metadata": {},
   "outputs": [],
   "source": [
    "d = D({'M': c})"
   ]
  },
  {
   "cell_type": "code",
   "execution_count": 23,
   "metadata": {},
   "outputs": [
    {
     "name": "stdout",
     "output_type": "stream",
     "text": [
      "D running!\n"
     ]
    },
    {
     "data": {
      "text/plain": [
       "4"
      ]
     },
     "execution_count": 23,
     "metadata": {},
     "output_type": "execute_result"
    }
   ],
   "source": [
    "d.run()"
   ]
  },
  {
   "cell_type": "code",
   "execution_count": 24,
   "metadata": {},
   "outputs": [
    {
     "data": {
      "text/plain": [
       "4"
      ]
     },
     "execution_count": 24,
     "metadata": {},
     "output_type": "execute_result"
    }
   ],
   "source": [
    "d.run(0)"
   ]
  },
  {
   "cell_type": "code",
   "execution_count": 25,
   "metadata": {},
   "outputs": [
    {
     "name": "stdout",
     "output_type": "stream",
     "text": [
      "D running!\n"
     ]
    },
    {
     "data": {
      "text/plain": [
       "4"
      ]
     },
     "execution_count": 25,
     "metadata": {},
     "output_type": "execute_result"
    }
   ],
   "source": [
    "d.run(1)"
   ]
  },
  {
   "cell_type": "code",
   "execution_count": 26,
   "metadata": {},
   "outputs": [
    {
     "name": "stdout",
     "output_type": "stream",
     "text": [
      "C running!\n",
      "D running!\n"
     ]
    },
    {
     "data": {
      "text/plain": [
       "4"
      ]
     },
     "execution_count": 26,
     "metadata": {},
     "output_type": "execute_result"
    }
   ],
   "source": [
    "d.run(2)"
   ]
  },
  {
   "cell_type": "code",
   "execution_count": 27,
   "metadata": {},
   "outputs": [
    {
     "name": "stdout",
     "output_type": "stream",
     "text": [
      "A running!\n",
      "B running!\n",
      "C running!\n",
      "D running!\n"
     ]
    },
    {
     "data": {
      "text/plain": [
       "4"
      ]
     },
     "execution_count": 27,
     "metadata": {},
     "output_type": "execute_result"
    }
   ],
   "source": [
    "d.run(3)"
   ]
  },
  {
   "cell_type": "code",
   "execution_count": 28,
   "metadata": {},
   "outputs": [
    {
     "name": "stdout",
     "output_type": "stream",
     "text": [
      "A running!\n",
      "B running!\n",
      "C running!\n",
      "D running!\n"
     ]
    },
    {
     "data": {
      "text/plain": [
       "4"
      ]
     },
     "execution_count": 28,
     "metadata": {},
     "output_type": "execute_result"
    }
   ],
   "source": [
    "d.run(-1)"
   ]
  },
  {
   "cell_type": "markdown",
   "metadata": {},
   "source": [
    "# recursion\n",
    "\n",
    "The following structure is a hash structure it contains one and only one loop. We can't use `gas=-1` because it will loop forever. But we can use `gas=-2` as long as we give something in the loop a default initial value. This works because we know they converge."
   ]
  },
  {
   "cell_type": "code",
   "execution_count": 29,
   "metadata": {},
   "outputs": [],
   "source": [
    "class X(Function):\n",
    "    \n",
    "    def __init__(self, inputs: dict = None):\n",
    "        super(X, self).__init__(inputs)\n",
    "        self.name = 'x'\n",
    "        \n",
    "    def function(self):\n",
    "        return self.transformation(**self.kwargs)\n",
    "    \n",
    "    def transformation(self, **kw):\n",
    "        if kw['Y'] < 10:\n",
    "            i = kw['Y']+1\n",
    "        else: \n",
    "            i = kw['Y']\n",
    "        print('X running! returning', i)\n",
    "        return i\n",
    "    \n",
    "    \n",
    "class Y(Function):\n",
    "    \n",
    "    def __init__(self, inputs: dict = None):\n",
    "        super(Y, self).__init__(inputs)\n",
    "        self.name = 'y'\n",
    "        \n",
    "    def function(self):\n",
    "        return self.transformation(**self.kwargs)\n",
    "    \n",
    "    def transformation(self, **kw):\n",
    "        if kw['X'] < 6:\n",
    "            i = kw['X']+1\n",
    "        else: \n",
    "            i = kw['X']\n",
    "        print('Y running! returning', i)\n",
    "        return i\n",
    "    \n",
    "    \n",
    "class Z(Function):\n",
    "    \n",
    "    def __init__(self, inputs: dict = None):\n",
    "        super(Z, self).__init__(inputs)\n",
    "        self.name = 'z'\n",
    "        \n",
    "    def function(self):\n",
    "        return self.transformation(**self.kwargs)\n",
    "    \n",
    "    def transformation(self, **kw):\n",
    "        i = kw['Y']+1\n",
    "        print('Z running! returning', i)\n",
    "        return i"
   ]
  },
  {
   "cell_type": "code",
   "execution_count": 30,
   "metadata": {},
   "outputs": [],
   "source": [
    "x = X()\n",
    "y = Y({'X': x})\n",
    "z = Z({'Y': y})\n",
    "x.set_inputs({'Y': y})"
   ]
  },
  {
   "cell_type": "code",
   "execution_count": 31,
   "metadata": {},
   "outputs": [
    {
     "data": {
      "text/plain": [
       "{'Y': None}"
      ]
     },
     "execution_count": 31,
     "metadata": {},
     "output_type": "execute_result"
    }
   ],
   "source": [
    "x.kwargs"
   ]
  },
  {
   "cell_type": "code",
   "execution_count": 32,
   "metadata": {},
   "outputs": [],
   "source": [
    "x.output = 0\n",
    "x.cached = True"
   ]
  },
  {
   "cell_type": "code",
   "execution_count": 33,
   "metadata": {},
   "outputs": [
    {
     "name": "stdout",
     "output_type": "stream",
     "text": [
      "Y running! returning 1\n",
      "X running! returning 2\n",
      "Y running! returning 3\n",
      "X running! returning 4\n",
      "Y running! returning 5\n",
      "X running! returning 6\n",
      "Y running! returning 6\n",
      "X running! returning 7\n",
      "Y running! returning 7\n",
      "X running! returning 8\n",
      "Y running! returning 8\n",
      "X running! returning 9\n",
      "Y running! returning 9\n",
      "X running! returning 10\n",
      "Y running! returning 10\n",
      "X running! returning 10\n",
      "Y running! returning 10\n",
      "X running! returning 10\n",
      "Y running! returning 10\n",
      "Z running! returning 11\n"
     ]
    },
    {
     "data": {
      "text/plain": [
       "11"
      ]
     },
     "execution_count": 33,
     "metadata": {},
     "output_type": "execute_result"
    }
   ],
   "source": [
    "z.run(20)"
   ]
  },
  {
   "cell_type": "code",
   "execution_count": null,
   "metadata": {},
   "outputs": [],
   "source": []
  },
  {
   "cell_type": "markdown",
   "metadata": {},
   "source": [
    "# Visualization\n",
    "\n",
    "In theory we could build a dask dag graph from the inputs values of the objects. but this is hard to test and develop since this machine can't install conda, and we need conda to properly install graphviz because we're using dask to visiualize it..."
   ]
  },
  {
   "cell_type": "code",
   "execution_count": 34,
   "metadata": {},
   "outputs": [
    {
     "ename": "ZeroDivisionError",
     "evalue": "division by zero",
     "output_type": "error",
     "traceback": [
      "\u001b[1;31m---------------------------------------------------------------------------\u001b[0m",
      "\u001b[1;31mZeroDivisionError\u001b[0m                         Traceback (most recent call last)",
      "\u001b[1;32m<ipython-input-34-9e1622b385b6>\u001b[0m in \u001b[0;36m<module>\u001b[1;34m\u001b[0m\n\u001b[1;32m----> 1\u001b[1;33m \u001b[1;36m1\u001b[0m\u001b[1;33m/\u001b[0m\u001b[1;36m0\u001b[0m\u001b[1;33m\u001b[0m\u001b[1;33m\u001b[0m\u001b[0m\n\u001b[0m",
      "\u001b[1;31mZeroDivisionError\u001b[0m: division by zero"
     ]
    }
   ],
   "source": [
    "1/0"
   ]
  },
  {
   "cell_type": "code",
   "execution_count": null,
   "metadata": {},
   "outputs": [],
   "source": [
    "import dask\n",
    "dag = {\n",
    "    'A': (a.run, *a.inputs.keys()),\n",
    "    'B': (b.run, *b.inputs.keys()),\n",
    "    'C': (c.run, *c.inputs.keys()),\n",
    "    'D': (d.run, *d.inputs.keys()),\n",
    "}\n",
    "dask.visualize(dag)"
   ]
  },
  {
   "cell_type": "code",
   "execution_count": null,
   "metadata": {},
   "outputs": [],
   "source": []
  },
  {
   "cell_type": "code",
   "execution_count": null,
   "metadata": {},
   "outputs": [],
   "source": []
  }
 ],
 "metadata": {
  "kernelspec": {
   "display_name": "Python 3",
   "language": "python",
   "name": "python3"
  },
  "language_info": {
   "codemirror_mode": {
    "name": "ipython",
    "version": 3
   },
   "file_extension": ".py",
   "mimetype": "text/x-python",
   "name": "python",
   "nbconvert_exporter": "python",
   "pygments_lexer": "ipython3",
   "version": "3.8.4"
  }
 },
 "nbformat": 4,
 "nbformat_minor": 4
}
