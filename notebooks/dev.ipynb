{
 "cells": [
  {
   "cell_type": "markdown",
   "metadata": {},
   "source": [
    "# Base Class"
   ]
  },
  {
   "cell_type": "code",
   "execution_count": 184,
   "metadata": {},
   "outputs": [],
   "source": [
    "class Function():\n",
    "    ''' basically a function that is responsible for getting its own inputs '''\n",
    "\n",
    "    def __init__(self, inputs: dict = None, name: str = None):\n",
    "        self.name = name or self.__repr__().split()[0].split('.')[-1]\n",
    "        self.set_inputs(inputs=inputs or {})\n",
    "        self.clear(memory=True)\n",
    "\n",
    "    def set_inputs(self, inputs: dict):\n",
    "        self.inputs = inputs\n",
    "        self.kwargs = {name: None for name in self.inputs.keys()}\n",
    "\n",
    "    def clear(self, memory: bool = False):\n",
    "        self.cached = False\n",
    "        self.getout = False\n",
    "        if memory:\n",
    "            self.output = None\n",
    "            self.latest = None\n",
    "\n",
    "    def run(self, gas: int = 1, verbose: bool = False):\n",
    "        '''\n",
    "        gas can specify if we should pull from cache or not in this way:\n",
    "        -1 - infinite gas (DAGs only!)\n",
    "        0 - if cache: cache, else: get inputs, do function, save as cache\n",
    "        1 - request cached inputs and run functionality (default)\n",
    "        2 - request non-cached inputs and run functionality\n",
    "        3 - request that inputs request non-cached inputs and recalculate...\n",
    "        4+ - so on and so forth...\n",
    "        '''\n",
    "        if gas == 0 and self.cached:\n",
    "            pass\n",
    "        else:\n",
    "            if gas == 0 and not self.cached:\n",
    "                self.aquire(gas=0)\n",
    "            elif gas >= 1:\n",
    "                self.aquire(gas=gas - 1)\n",
    "            elif gas == -1:\n",
    "                self.aquire(gas)\n",
    "            else:\n",
    "                self.aquire(0)\n",
    "            self.output = self.function()\n",
    "            self.cached = True\n",
    "        return self.get()\n",
    "\n",
    "    def aquire(self, gas: int = 0):\n",
    "        for name, function_object in self.inputs.items():\n",
    "            self.kwargs[name] = function_object.run(gas)\n",
    "\n",
    "    def get(self):\n",
    "        return self.output\n",
    "\n",
    "    def visualize(self, size=(8,5)):\n",
    "        '''\n",
    "        minimal, no uniformly layout, unable to save to file, no namespacing\n",
    "        and no indications such as cached, cost in time, or popularity, etc.\n",
    "        '''\n",
    "\n",
    "        def graph_heritage(current, seen):\n",
    "            seen.append(current)\n",
    "            parents = [v for v in current.inputs.values()]\n",
    "            for parent in parents:\n",
    "                if not graph.has_node(parent.name):\n",
    "                    graph.add_node(parent.name)\n",
    "                    if parent in [v for v in self.inputs.values()]:\n",
    "                        colors.append('#d7a9e3')\n",
    "                    else:\n",
    "                        colors.append('#8bbee8')\n",
    "                ancestors.append((parent.name, current.name))\n",
    "                if parent not in seen:\n",
    "                    graph_heritage(current=parent, seen=seen)\n",
    "\n",
    "        import networkx as nx\n",
    "        import matplotlib.pyplot as plt\n",
    "        graph = nx.DiGraph()\n",
    "        colors = []\n",
    "        ancestors = []\n",
    "        if not graph.has_node(self.name):\n",
    "            graph.add_node(self.name)\n",
    "            colors.append('#a8d5ba')\n",
    "        graph_heritage(current=self, seen=[])\n",
    "        graph.add_edges_from(ancestors, weight=1)\n",
    "        pos = nx.spring_layout(graph)\n",
    "        nx.draw(graph, pos, with_labels=True, node_color=colors, node_size=1500)\n",
    "        plt.rcParams[\"figure.figsize\"] = size\n",
    "        plt.show()\n",
    "\n",
    "    def function(self):\n",
    "        ''' main '''\n",
    "        return self.output\n"
   ]
  },
  {
   "cell_type": "markdown",
   "metadata": {},
   "source": [
    "# Examples"
   ]
  },
  {
   "cell_type": "code",
   "execution_count": 186,
   "metadata": {},
   "outputs": [],
   "source": [
    "class A(Function):\n",
    "    def function(self):\n",
    "        print('A running!')\n",
    "        return 1"
   ]
  },
  {
   "cell_type": "code",
   "execution_count": 187,
   "metadata": {},
   "outputs": [],
   "source": [
    "a = A(name='Alpha')"
   ]
  },
  {
   "cell_type": "code",
   "execution_count": 188,
   "metadata": {},
   "outputs": [
    {
     "data": {
      "text/plain": [
       "'Alpha'"
      ]
     },
     "execution_count": 188,
     "metadata": {},
     "output_type": "execute_result"
    }
   ],
   "source": [
    "a.name"
   ]
  },
  {
   "cell_type": "code",
   "execution_count": 189,
   "metadata": {},
   "outputs": [
    {
     "data": {
      "image/png": "[encoded data removed]",
      "text/plain": [
       "<Figure size 576x360 with 1 Axes>"
      ]
     },
     "metadata": {},
     "output_type": "display_data"
    }
   ],
   "source": [
    "a.visualize()"
   ]
  },
  {
   "cell_type": "code",
   "execution_count": 190,
   "metadata": {},
   "outputs": [
    {
     "data": {
      "text/plain": [
       "{}"
      ]
     },
     "execution_count": 190,
     "metadata": {},
     "output_type": "execute_result"
    }
   ],
   "source": [
    "a.inputs"
   ]
  },
  {
   "cell_type": "code",
   "execution_count": 149,
   "metadata": {},
   "outputs": [
    {
     "data": {
      "text/plain": [
       "False"
      ]
     },
     "execution_count": 149,
     "metadata": {},
     "output_type": "execute_result"
    }
   ],
   "source": [
    "a.cached"
   ]
  },
  {
   "cell_type": "code",
   "execution_count": 150,
   "metadata": {},
   "outputs": [
    {
     "name": "stdout",
     "output_type": "stream",
     "text": [
      "None\n"
     ]
    }
   ],
   "source": [
    "print(a.output)"
   ]
  },
  {
   "cell_type": "code",
   "execution_count": 151,
   "metadata": {},
   "outputs": [
    {
     "name": "stdout",
     "output_type": "stream",
     "text": [
      "A running!\n"
     ]
    },
    {
     "data": {
      "text/plain": [
       "1"
      ]
     },
     "execution_count": 151,
     "metadata": {},
     "output_type": "execute_result"
    }
   ],
   "source": [
    "a.run()"
   ]
  },
  {
   "cell_type": "code",
   "execution_count": 152,
   "metadata": {},
   "outputs": [
    {
     "name": "stdout",
     "output_type": "stream",
     "text": [
      "1\n"
     ]
    }
   ],
   "source": [
    "print(a.output)"
   ]
  },
  {
   "cell_type": "code",
   "execution_count": 153,
   "metadata": {},
   "outputs": [],
   "source": [
    "class B(Function):\n",
    "    def function(self):\n",
    "        print('B running!')\n",
    "        return 2"
   ]
  },
  {
   "cell_type": "code",
   "execution_count": 154,
   "metadata": {},
   "outputs": [],
   "source": [
    "b = B(name='Beta')"
   ]
  },
  {
   "cell_type": "code",
   "execution_count": 155,
   "metadata": {},
   "outputs": [],
   "source": [
    "# b.run()"
   ]
  },
  {
   "cell_type": "code",
   "execution_count": 156,
   "metadata": {},
   "outputs": [
    {
     "name": "stdout",
     "output_type": "stream",
     "text": [
      "None\n"
     ]
    }
   ],
   "source": [
    "print(b.output)"
   ]
  },
  {
   "cell_type": "code",
   "execution_count": 157,
   "metadata": {
    "scrolled": true
   },
   "outputs": [
    {
     "name": "stdout",
     "output_type": "stream",
     "text": [
      "False\n"
     ]
    }
   ],
   "source": [
    "print(b.cached)"
   ]
  },
  {
   "cell_type": "code",
   "execution_count": 158,
   "metadata": {},
   "outputs": [],
   "source": [
    "class C(Function):\n",
    "    def __init__(self, inputs: dict = None, name: str = None):\n",
    "        super(C, self).__init__(inputs, name)\n",
    "    def function(self):\n",
    "        print('C running!')\n",
    "        return self.kwargs['A'] + self.kwargs['B']"
   ]
  },
  {
   "cell_type": "code",
   "execution_count": 159,
   "metadata": {},
   "outputs": [],
   "source": [
    "c = C({'A': a, 'B': b})"
   ]
  },
  {
   "cell_type": "code",
   "execution_count": 160,
   "metadata": {},
   "outputs": [
    {
     "data": {
      "text/plain": [
       "'C'"
      ]
     },
     "execution_count": 160,
     "metadata": {},
     "output_type": "execute_result"
    }
   ],
   "source": [
    "c.name"
   ]
  },
  {
   "cell_type": "code",
   "execution_count": 161,
   "metadata": {},
   "outputs": [
    {
     "data": {
      "image/png": "[encoded data removed]",
      "text/plain": [
       "<Figure size 576x360 with 1 Axes>"
      ]
     },
     "metadata": {},
     "output_type": "display_data"
    }
   ],
   "source": [
    "c.visualize()"
   ]
  },
  {
   "cell_type": "code",
   "execution_count": null,
   "metadata": {},
   "outputs": [],
   "source": []
  },
  {
   "cell_type": "code",
   "execution_count": 162,
   "metadata": {},
   "outputs": [
    {
     "data": {
      "text/plain": [
       "{'A': None, 'B': None}"
      ]
     },
     "execution_count": 162,
     "metadata": {},
     "output_type": "execute_result"
    }
   ],
   "source": [
    "c.kwargs"
   ]
  },
  {
   "cell_type": "code",
   "execution_count": 163,
   "metadata": {},
   "outputs": [
    {
     "name": "stdout",
     "output_type": "stream",
     "text": [
      "B running!\n"
     ]
    }
   ],
   "source": [
    "c.aquire()"
   ]
  },
  {
   "cell_type": "code",
   "execution_count": 164,
   "metadata": {},
   "outputs": [
    {
     "data": {
      "text/plain": [
       "{'A': 1, 'B': 2}"
      ]
     },
     "execution_count": 164,
     "metadata": {},
     "output_type": "execute_result"
    }
   ],
   "source": [
    "c.kwargs"
   ]
  },
  {
   "cell_type": "code",
   "execution_count": 165,
   "metadata": {},
   "outputs": [
    {
     "data": {
      "text/plain": [
       "False"
      ]
     },
     "execution_count": 165,
     "metadata": {},
     "output_type": "execute_result"
    }
   ],
   "source": [
    "c.cached"
   ]
  },
  {
   "cell_type": "code",
   "execution_count": 166,
   "metadata": {},
   "outputs": [
    {
     "name": "stdout",
     "output_type": "stream",
     "text": [
      "C running!\n"
     ]
    },
    {
     "data": {
      "text/plain": [
       "3"
      ]
     },
     "execution_count": 166,
     "metadata": {},
     "output_type": "execute_result"
    }
   ],
   "source": [
    "c.run()"
   ]
  },
  {
   "cell_type": "code",
   "execution_count": 167,
   "metadata": {},
   "outputs": [],
   "source": [
    "class D(Function):\n",
    "    def function(self):\n",
    "        return self.transformation(**self.kwargs)\n",
    "    def transformation(self, **kw):\n",
    "        print('D running!')\n",
    "        return kw['M']+1"
   ]
  },
  {
   "cell_type": "code",
   "execution_count": 168,
   "metadata": {},
   "outputs": [],
   "source": [
    "d = D({'M': c}, name='Delta')"
   ]
  },
  {
   "cell_type": "code",
   "execution_count": 169,
   "metadata": {},
   "outputs": [
    {
     "data": {
      "image/png": "[encoded data removed]",
      "text/plain": [
       "<Figure size 576x360 with 1 Axes>"
      ]
     },
     "metadata": {},
     "output_type": "display_data"
    }
   ],
   "source": [
    "d.visualize()"
   ]
  },
  {
   "cell_type": "code",
   "execution_count": 170,
   "metadata": {},
   "outputs": [
    {
     "name": "stdout",
     "output_type": "stream",
     "text": [
      "D running!\n"
     ]
    },
    {
     "data": {
      "text/plain": [
       "4"
      ]
     },
     "execution_count": 170,
     "metadata": {},
     "output_type": "execute_result"
    }
   ],
   "source": [
    "d.run()"
   ]
  },
  {
   "cell_type": "code",
   "execution_count": 171,
   "metadata": {},
   "outputs": [
    {
     "data": {
      "text/plain": [
       "4"
      ]
     },
     "execution_count": 171,
     "metadata": {},
     "output_type": "execute_result"
    }
   ],
   "source": [
    "d.run(0)"
   ]
  },
  {
   "cell_type": "code",
   "execution_count": 172,
   "metadata": {},
   "outputs": [
    {
     "name": "stdout",
     "output_type": "stream",
     "text": [
      "D running!\n"
     ]
    },
    {
     "data": {
      "text/plain": [
       "4"
      ]
     },
     "execution_count": 172,
     "metadata": {},
     "output_type": "execute_result"
    }
   ],
   "source": [
    "d.run(1)"
   ]
  },
  {
   "cell_type": "code",
   "execution_count": 173,
   "metadata": {},
   "outputs": [
    {
     "name": "stdout",
     "output_type": "stream",
     "text": [
      "C running!\n",
      "D running!\n"
     ]
    },
    {
     "data": {
      "text/plain": [
       "4"
      ]
     },
     "execution_count": 173,
     "metadata": {},
     "output_type": "execute_result"
    }
   ],
   "source": [
    "d.run(2)"
   ]
  },
  {
   "cell_type": "code",
   "execution_count": 174,
   "metadata": {},
   "outputs": [
    {
     "name": "stdout",
     "output_type": "stream",
     "text": [
      "A running!\n",
      "B running!\n",
      "C running!\n",
      "D running!\n"
     ]
    },
    {
     "data": {
      "text/plain": [
       "4"
      ]
     },
     "execution_count": 174,
     "metadata": {},
     "output_type": "execute_result"
    }
   ],
   "source": [
    "d.run(3)"
   ]
  },
  {
   "cell_type": "code",
   "execution_count": 175,
   "metadata": {},
   "outputs": [
    {
     "name": "stdout",
     "output_type": "stream",
     "text": [
      "A running!\n",
      "B running!\n",
      "C running!\n",
      "D running!\n"
     ]
    },
    {
     "data": {
      "text/plain": [
       "4"
      ]
     },
     "execution_count": 175,
     "metadata": {},
     "output_type": "execute_result"
    }
   ],
   "source": [
    "d.run(-1)"
   ]
  },
  {
   "cell_type": "markdown",
   "metadata": {},
   "source": [
    "# recursion\n",
    "\n",
    "The following structure is a hash structure it contains one and only one loop. We can't use `gas=-1` because it will loop forever. But we can use `gas=-2` as long as we give something in the loop a default initial value. This works because we know they converge."
   ]
  },
  {
   "cell_type": "code",
   "execution_count": 176,
   "metadata": {},
   "outputs": [],
   "source": [
    "class X(Function):\n",
    "    def function(self):\n",
    "        return self.transformation(**self.kwargs)\n",
    "    def transformation(self, **kw):\n",
    "        if kw['Y'] < 10:\n",
    "            i = kw['Y']+1\n",
    "        else: \n",
    "            i = kw['Y']\n",
    "        print(self.name, 'running! returning', i)\n",
    "        return i\n",
    "    \n",
    "    \n",
    "class Y(Function):\n",
    "    def function(self):\n",
    "        return self.transformation(**self.kwargs)\n",
    "    def transformation(self, **kw):\n",
    "        if kw['X'] < 6:\n",
    "            i = kw['X']+1\n",
    "        else: \n",
    "            i = kw['X']\n",
    "        print(self.name, 'running! returning', i)\n",
    "        return i\n",
    "    \n",
    "    \n",
    "class Z(Function):\n",
    "    def function(self):\n",
    "        return self.transformation(**self.kwargs)\n",
    "    def transformation(self, **kw):\n",
    "        i = kw['Y']+1\n",
    "        print(self.name, 'running! returning', i)\n",
    "        return i"
   ]
  },
  {
   "cell_type": "code",
   "execution_count": 177,
   "metadata": {},
   "outputs": [],
   "source": [
    "x = X(name='x')\n",
    "y = Y({'X': x}, name='y')\n",
    "z = Z({'Y': y}, name='z')\n",
    "x.set_inputs({'Y': y})"
   ]
  },
  {
   "cell_type": "code",
   "execution_count": 178,
   "metadata": {},
   "outputs": [
    {
     "data": {
      "text/plain": [
       "{'Y': None}"
      ]
     },
     "execution_count": 178,
     "metadata": {},
     "output_type": "execute_result"
    }
   ],
   "source": [
    "x.kwargs"
   ]
  },
  {
   "cell_type": "code",
   "execution_count": 179,
   "metadata": {},
   "outputs": [],
   "source": [
    "x.output = 0\n",
    "x.cached = True"
   ]
  },
  {
   "cell_type": "code",
   "execution_count": 180,
   "metadata": {},
   "outputs": [
    {
     "name": "stdout",
     "output_type": "stream",
     "text": [
      "y running! returning 1\n",
      "x running! returning 2\n",
      "y running! returning 3\n",
      "x running! returning 4\n",
      "y running! returning 5\n",
      "x running! returning 6\n",
      "y running! returning 6\n",
      "x running! returning 7\n",
      "y running! returning 7\n",
      "x running! returning 8\n",
      "y running! returning 8\n",
      "x running! returning 9\n",
      "y running! returning 9\n",
      "x running! returning 10\n",
      "y running! returning 10\n",
      "x running! returning 10\n",
      "y running! returning 10\n",
      "x running! returning 10\n",
      "y running! returning 10\n",
      "z running! returning 11\n"
     ]
    },
    {
     "data": {
      "text/plain": [
       "11"
      ]
     },
     "execution_count": 180,
     "metadata": {},
     "output_type": "execute_result"
    }
   ],
   "source": [
    "z.run(20)"
   ]
  },
  {
   "cell_type": "code",
   "execution_count": 181,
   "metadata": {},
   "outputs": [
    {
     "data": {
      "image/png": "[encoded data removed]",
      "text/plain": [
       "<Figure size 576x360 with 1 Axes>"
      ]
     },
     "metadata": {},
     "output_type": "display_data"
    }
   ],
   "source": [
    "z.visualize()"
   ]
  },
  {
   "cell_type": "markdown",
   "metadata": {},
   "source": [
    "# Visualization\n",
    "\n",
    "In theory we could build a dask dag graph from the inputs values of the objects. but this is hard to test and develop since this machine can't install conda, and we need conda to properly install graphviz because we're using dask to visiualize it...\n",
    "\n",
    "we'll see what we can do with networkx"
   ]
  },
  {
   "cell_type": "code",
   "execution_count": 182,
   "metadata": {},
   "outputs": [
    {
     "ename": "ZeroDivisionError",
     "evalue": "division by zero",
     "output_type": "error",
     "traceback": [
      "\u001b[1;31m---------------------------------------------------------------------------\u001b[0m",
      "\u001b[1;31mZeroDivisionError\u001b[0m                         Traceback (most recent call last)",
      "\u001b[1;32m<ipython-input-182-9e1622b385b6>\u001b[0m in \u001b[0;36m<module>\u001b[1;34m\u001b[0m\n\u001b[1;32m----> 1\u001b[1;33m \u001b[1;36m1\u001b[0m\u001b[1;33m/\u001b[0m\u001b[1;36m0\u001b[0m\u001b[1;33m\u001b[0m\u001b[1;33m\u001b[0m\u001b[0m\n\u001b[0m",
      "\u001b[1;31mZeroDivisionError\u001b[0m: division by zero"
     ]
    }
   ],
   "source": [
    "1/0"
   ]
  },
  {
   "cell_type": "code",
   "execution_count": 183,
   "metadata": {},
   "outputs": [
    {
     "data": {
      "image/png": "[encoded data removed]",
      "text/plain": [
       "<Figure size 576x360 with 1 Axes>"
      ]
     },
     "metadata": {},
     "output_type": "display_data"
    }
   ],
   "source": [
    "import networkx as nx\n",
    "import numpy as np\n",
    "import matplotlib.pyplot as plt\n",
    "#import pylab\n",
    "\n",
    "G = nx.DiGraph()\n",
    "\n",
    "G.add_edges_from([('A', 'B'),('C','D'),('G','D')], weight=1)\n",
    "G.add_edges_from([('D','A'),('D','E'),('B','D'),('D','E')], weight=2)\n",
    "G.add_edges_from([('B','C'),('E','F')], weight=3)\n",
    "G.add_edges_from([('C','F')], weight=4)\n",
    "\n",
    "cities = {0: \"Toronto\", 1: \"London\", 2: \"Berlin\", 3: \"New York\"}\n",
    "\n",
    "G = nx.relabel_nodes(G, cities)\n",
    "\n",
    "\n",
    "val_map = {\n",
    "    'A': 1.50,\n",
    "    #'D': 0.25,\n",
    "    'H': 0.94}\n",
    "#\n",
    "#values = [val_map.get(node, '.6') for node in G.nodes()]\n",
    "values = ['.9' for node in G.nodes()]  # cmap=\"Spectral\",\n",
    "#values = [val_map.get(node, '#FFFFFF') for node in G.nodes()]\n",
    "#edge_labels=dict([((u,v,),d['weight'])\n",
    "#                 for u,v,d in G.edges(data=True)])\n",
    "#red_edges = [('C','D'),('D','A')]\n",
    "#edge_colors = ['black' if not edge in red_edges else 'red' for edge in G.edges()]\n",
    "\n",
    "pos = nx.spring_layout(G)\n",
    "#nx.draw_networkx_edge_labels(G, pos, ) #edge_labels=edge_labels)\n",
    "nx.draw(G, pos, with_labels=True, node_color=values, node_size=1500, )#edge_color=edge_colors,edge_cmap=plt.cm.Reds)\n",
    "plt.show()"
   ]
  },
  {
   "cell_type": "code",
   "execution_count": null,
   "metadata": {},
   "outputs": [],
   "source": []
  },
  {
   "cell_type": "code",
   "execution_count": null,
   "metadata": {},
   "outputs": [],
   "source": []
  },
  {
   "cell_type": "code",
   "execution_count": null,
   "metadata": {},
   "outputs": [],
   "source": []
  },
  {
   "cell_type": "code",
   "execution_count": null,
   "metadata": {},
   "outputs": [],
   "source": []
  },
  {
   "cell_type": "code",
   "execution_count": null,
   "metadata": {},
   "outputs": [],
   "source": []
  },
  {
   "cell_type": "code",
   "execution_count": null,
   "metadata": {},
   "outputs": [],
   "source": []
  },
  {
   "cell_type": "code",
   "execution_count": null,
   "metadata": {},
   "outputs": [],
   "source": [
    "import dask\n",
    "dag = {\n",
    "    'A': (a.run, *a.inputs.keys()),\n",
    "    'B': (b.run, *b.inputs.keys()),\n",
    "    'C': (c.run, *c.inputs.keys()),\n",
    "    'D': (d.run, *d.inputs.keys()),\n",
    "}\n",
    "dask.visualize(dag)"
   ]
  },
  {
   "cell_type": "code",
   "execution_count": null,
   "metadata": {},
   "outputs": [],
   "source": []
  },
  {
   "cell_type": "code",
   "execution_count": null,
   "metadata": {},
   "outputs": [],
   "source": [
    "import networkx as nx\n",
    "\n",
    "graph = nx.DiGraph()\n",
    "graph.add_edges_from([(\"root\", \"a\"), (\"a\", \"b\"), (\"a\", \"e\"), (\"b\", \"c\"), (\"b\", \"d\"), (\"d\", \"e\")])"
   ]
  },
  {
   "cell_type": "code",
   "execution_count": null,
   "metadata": {},
   "outputs": [],
   "source": [
    "import networkx as nx  \n",
    "import matplotlib.pyplot as plt\n",
    "G=nx.DiGraph()\n",
    "G.add_node(0),G.add_node('11111'),G.add_node(2),G.add_node(3),G.add_node(4)\n",
    "G.add_edge(0, '11111'),G.add_edge('11111', 2),G.add_edge(0, 2),G.add_edge('11111', 4),G.add_edge('11111', 3),G.add_edge(3, 2),G.add_edge(3,'11111'),G.add_edge(4,3)\n",
    "nx.draw(G, with_labels=True, font_weight='bold')\n",
    "plt.show()"
   ]
  },
  {
   "cell_type": "code",
   "execution_count": null,
   "metadata": {},
   "outputs": [],
   "source": [
    "import networkx as nx\n",
    "import numpy as np\n",
    "import matplotlib.pyplot as plt\n",
    "import pylab\n",
    "\n",
    "G = nx.DiGraph()\n",
    "\n",
    "G.add_edges_from([('A', 'B'),('C','D'),('G','D')], weight=1)\n",
    "G.add_edges_from([('D','A'),('D','E'),('B','D'),('D','E')], weight=2)\n",
    "G.add_edges_from([('B','C'),('E','F')], weight=3)\n",
    "G.add_edges_from([('C','F')], weight=4)\n",
    "\n",
    "val_map = {\n",
    "    'A': 2.5,\n",
    "    'D': 0.5,\n",
    "    'H': 0.94}\n",
    "\n",
    "values = [val_map.get(node, .0) for node in G.nodes()]\n",
    "#edge_labels=dict([((u,v,),d['weight'])\n",
    "#                 for u,v,d in G.edges(data=True)])\n",
    "#red_edges = [('C','D'),('D','A')]\n",
    "#edge_colors = ['black' if not edge in red_edges else 'red' for edge in G.edges()]\n",
    "\n",
    "pos = nx.spring_layout(G)\n",
    "#nx.draw_networkx_edge_labels(G, pos, ) #edge_labels=edge_labels)\n",
    "nx.draw(G,pos, node_color=values, node_size=1500, )#edge_color=edge_colors,edge_cmap=plt.cm.Reds)\n",
    "pylab.show()"
   ]
  },
  {
   "cell_type": "code",
   "execution_count": null,
   "metadata": {},
   "outputs": [],
   "source": [
    "from graphviz import Digraph\n",
    "\n",
    "dot = Digraph()\n",
    "dot.node('A', 'A')\n",
    "dot.node('B', 'B')\n",
    "dot.node('C', 'C')\n",
    "dot.edges(['AB', 'AB', 'AB', 'BC', 'BA', 'CB'])\n",
    "\n",
    "print(dot.source)\n",
    "dot.render(file_name, view=True)"
   ]
  },
  {
   "cell_type": "code",
   "execution_count": null,
   "metadata": {},
   "outputs": [],
   "source": [
    "import graphviz\n",
    "from IPython.display import display\n",
    "graphviz.Source(dot).view()\n",
    "# display(graphviz.Source(dot))"
   ]
  },
  {
   "cell_type": "code",
   "execution_count": null,
   "metadata": {},
   "outputs": [],
   "source": [
    "import networkx as nx\n",
    "import matplotlib.pyplot as plt\n",
    "\n",
    "G=nx.path_graph(4)\n",
    "\n",
    "print(\"Nodes of graph: \")\n",
    "print(G.nodes())\n",
    "print(\"Edges of graph: \")\n",
    "print(G.edges())\n",
    "nx.draw(G)\n",
    "plt.savefig(\"path_graph1.png\")\n",
    "plt.show()\n",
    "#nx.spring_layout(G)"
   ]
  },
  {
   "cell_type": "code",
   "execution_count": null,
   "metadata": {},
   "outputs": [],
   "source": [
    "import networkx as nx\n",
    "import matplotlib.pyplot as plt\n",
    "import pylab\n",
    "G = nx.DiGraph()\n",
    "\n",
    "cities = {0: \"Toronto\", 1: \"London\", 2: \"Berlin\", 3: \"New York\"}\n",
    "\n",
    "#G = nx.spring_layout(G) \n",
    "G = nx.relabel_nodes(G, cities)\n",
    "\n",
    "nx.draw(G, with_labels=True, node_size=2000, node_color='#bbb4d9', node_shape='so^>v<dph8'[1])\n",
    "#nx.draw_networkx_nodes(G, node_size=200, node_color='#00b4d9')\n",
    "#plt.savefig(\"path_graph_cities.png\")\n",
    "plt.show()\n"
   ]
  },
  {
   "cell_type": "code",
   "execution_count": null,
   "metadata": {},
   "outputs": [],
   "source": [
    "import matplotlib.pyplot as plt\n",
    "import networkx as nx\n",
    "\n",
    "# This example needs Graphviz and either PyGraphviz or pydot\n",
    "from networkx.drawing.nx_pydot import graphviz_layout\n",
    "#from networkx.drawing.nx_agraph import graphviz_layout\n",
    "\n",
    "\n",
    "G = nx.balanced_tree(3, 5)\n",
    "pos = graphviz_layout(G, prog=\"twopi\")\n",
    "plt.figure(figsize=(8, 8))\n",
    "nx.draw(G, pos, node_size=20, alpha=0.5, node_color=\"blue\", with_labels=False)\n",
    "plt.axis(\"equal\")\n",
    "plt.show()"
   ]
  },
  {
   "cell_type": "code",
   "execution_count": null,
   "metadata": {},
   "outputs": [],
   "source": [
    "from operator import itemgetter\n",
    "\n",
    "import matplotlib.pyplot as plt\n",
    "import networkx as nx\n",
    "\n",
    "# Create a BA model graph\n",
    "n = 1000\n",
    "m = 2\n",
    "G = nx.generators.barabasi_albert_graph(n, m)\n",
    "\n",
    "# find node with largest degree\n",
    "node_and_degree = G.degree()\n",
    "(largest_hub, degree) = sorted(node_and_degree, key=itemgetter(1))[-1]\n",
    "\n",
    "# Create ego graph of main hub\n",
    "hub_ego = nx.ego_graph(G, largest_hub)\n",
    "\n",
    "# Draw graph\n",
    "pos = nx.spring_layout(hub_ego)\n",
    "nx.draw(hub_ego, pos, node_color=\"b\", node_size=50, with_labels=False)\n",
    "\n",
    "# Draw ego as large and red\n",
    "options = {\"node_size\": 300, \"node_color\": \"r\"}\n",
    "nx.draw_networkx_nodes(hub_ego, pos, nodelist=[largest_hub], **options)\n",
    "plt.show()"
   ]
  },
  {
   "cell_type": "code",
   "execution_count": null,
   "metadata": {},
   "outputs": [],
   "source": [
    "import itertools\n",
    "import matplotlib.pyplot as plt\n",
    "import networkx as nx\n",
    "\n",
    "from networkx.utils import pairwise\n",
    "\n",
    "subset_sizes = [5, 5, 4, 3, 2, 4, 4, 3]\n",
    "subset_color = [\n",
    "    \"gold\",\n",
    "    \"violet\",\n",
    "    \"violet\",\n",
    "    \"violet\",\n",
    "    \"violet\",\n",
    "    \"limegreen\",\n",
    "    \"limegreen\",\n",
    "    \"darkorange\",\n",
    "]\n",
    "\n",
    "\n",
    "def multilayered_graph(*subset_sizes):\n",
    "    extents = pairwise(itertools.accumulate((0,) + subset_sizes))\n",
    "    layers = [range(start, end) for start, end in extents]\n",
    "    G = nx.Graph()\n",
    "    for (i, layer) in enumerate(layers):\n",
    "        G.add_nodes_from(layer, layer=i)\n",
    "    for layer1, layer2 in pairwise(layers):\n",
    "        G.add_edges_from(itertools.product(layer1, layer2))\n",
    "    return G\n",
    "\n",
    "\n",
    "G = multilayered_graph(*subset_sizes)\n",
    "color = [subset_color[data[\"layer\"]] for v, data in G.nodes(data=True)]\n",
    "pos = nx.multipartite_layout(G, subset_key=\"layer\")\n",
    "plt.figure(figsize=(8, 8))\n",
    "nx.draw(G, pos, node_color=color, with_labels=False)\n",
    "plt.axis(\"equal\")\n",
    "plt.show()"
   ]
  },
  {
   "cell_type": "code",
   "execution_count": null,
   "metadata": {},
   "outputs": [],
   "source": [
    "import matplotlib.pyplot as plt\n",
    "import networkx as nx\n",
    "\n",
    "G = nx.star_graph(20)\n",
    "pos = nx.spring_layout(G)\n",
    "colors = range(20)\n",
    "options = {\n",
    "    \"node_color\": \"#A0CBE2\",\n",
    "    \"edge_color\": colors,\n",
    "    \"width\": 4,\n",
    "    \"edge_cmap\": plt.cm.Blues,\n",
    "    \"with_labels\": False,\n",
    "}\n",
    "nx.draw(G, pos, **options)\n",
    "plt.show()"
   ]
  },
  {
   "cell_type": "code",
   "execution_count": null,
   "metadata": {},
   "outputs": [],
   "source": []
  }
 ],
 "metadata": {
  "kernelspec": {
   "display_name": "Python 3",
   "language": "python",
   "name": "python3"
  },
  "language_info": {
   "codemirror_mode": {
    "name": "ipython",
    "version": 3
   },
   "file_extension": ".py",
   "mimetype": "text/x-python",
   "name": "python",
   "nbconvert_exporter": "python",
   "pygments_lexer": "ipython3",
   "version": "3.8.4"
  }
 },
 "nbformat": 4,
 "nbformat_minor": 4
}
