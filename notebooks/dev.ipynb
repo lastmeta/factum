{
 "cells": [
  {
   "cell_type": "markdown",
   "metadata": {},
   "source": [
    "# Dev notebook\n",
    "\n",
    "To begin, we're using this dev notebook to develop and test new functionality. Here we have an interactive coding environment, a battery of 'tests', and examples below. All roled into one.\n",
    "\n",
    "When things get more complicated we can break this out into an example notebook, and real pytests."
   ]
  },
  {
   "cell_type": "markdown",
   "metadata": {},
   "source": [
    "## Object Classes\n",
    "\n",
    "copied from factum\\lib\\objects.py"
   ]
  },
  {
   "cell_type": "code",
   "execution_count": 1,
   "metadata": {},
   "outputs": [],
   "source": [
    "class DataFact():\n",
    "    '''\n",
    "    basically a static function that has no inputs and no caching, it returns data.\n",
    "    it might have code to first get that data from a database in it, but it\n",
    "    does not have inputs passed to it.\n",
    "\n",
    "    features:\n",
    "        - no inputs (does not rely on other nodes)\n",
    "        - no caching (runs it's computations everytime it's called)\n",
    "    '''\n",
    "\n",
    "    def __init__(\n",
    "        self,\n",
    "        transform: callable = None,\n",
    "        name: str = None,\n",
    "        **kwargs\n",
    "    ):\n",
    "        '''\n",
    "        helpful kwargs may be:\n",
    "            kind: str (for example: 'data', 'view', 'task', 'transform', etc.)\n",
    "            meta: dict (a good place to store meta data)\n",
    "        '''\n",
    "        self.set_transform(transform)\n",
    "        self.set_name(name)\n",
    "        self.latest = None\n",
    "        self.outsig = None\n",
    "        self.__dict__.update({\n",
    "            k: v for k, v in kwargs.items()\n",
    "            if k not in dir(Fact)})\n",
    "\n",
    "    @staticmethod\n",
    "    def sha256(data):\n",
    "        import hashlib\n",
    "        return hashlib.sha256(data.encode('utf-8')).hexdigest()\n",
    "\n",
    "    def clear(self):\n",
    "        self.latest = None\n",
    "        self.outsig = None\n",
    "\n",
    "    def set_name(self, name: str):\n",
    "\n",
    "        def generate_random_name(length: int = 12):\n",
    "            import random\n",
    "            import string\n",
    "            letters = string.ascii_lowercase\n",
    "            return ''.join(random.choice(letters) for i in range(length))\n",
    "\n",
    "        self.name = name or (\n",
    "            self.transform.__name__\n",
    "            if self.transform.__name__ != 'transform'\n",
    "            else (\n",
    "                self.__repr__().split()[0].split('.')[-1]\n",
    "                if self.__repr__().split()[0].split('.')[-1] not in ['Fact', 'DataFact', 'MindlessFact', 'Fact']\n",
    "                else generate_random_name(12)))\n",
    "\n",
    "    def set_transform(self, function: callable = None):\n",
    "        if function is None:\n",
    "            return\n",
    "        if function.__code__.co_varnames[0] == 'self':\n",
    "            self.transform = function.__get__(self)\n",
    "        else:\n",
    "            self.transform = function\n",
    "\n",
    "    def add_method(self, function: callable):\n",
    "        '''\n",
    "        a way to add other methods to the instance for transform to call into...\n",
    "        ideally they would start with _ and would not rely on self.\n",
    "        merely for code management.\n",
    "        '''\n",
    "        if function.__code__.co_varnames[0] == 'self':\n",
    "            exec(f'self.{function.__name__} = function.__get__(self)')\n",
    "        else:\n",
    "            exec(f'self.{function.__name__} = function')\n",
    "\n",
    "    def run(self, *args, **kwargs):\n",
    "        return self.function()\n",
    "\n",
    "    def function(self):\n",
    "        import collections\n",
    "        output = self.transform()\n",
    "        if isinstance(output, collections.Hashable):\n",
    "            this_hash = DataFact.sha256(output)\n",
    "            if this_hash != self.outsig:\n",
    "                self.outsig == this_hash\n",
    "                self.set_latest()\n",
    "        else:\n",
    "            self.set_latest()\n",
    "        return output\n",
    "\n",
    "    def set_latest(self):\n",
    "        import datetime as dt\n",
    "        self.latest = dt.datetime.utcnow().timestamp()\n",
    "\n",
    "    def transform(self):\n",
    "        ''' main '''\n",
    "        return self.name\n",
    "\n",
    "    def visualization(self):\n",
    "        ''' merely return the data itself '''\n",
    "        return self.transform()\n",
    "\n",
    "\n",
    "class MindlessFact(DataFact):\n",
    "    '''\n",
    "    basically a function that is responsible for\n",
    "    getting its own inputs, has no caching functionality.\n",
    "\n",
    "    features:\n",
    "        - has inputs (relies on other nodes for data)\n",
    "        - no caching (must call inputs)\n",
    "        - no caching (must computations)\n",
    "    '''\n",
    "\n",
    "    def __init__(\n",
    "        self,\n",
    "        transform: callable = None,\n",
    "        inputs: dict = None,\n",
    "        name: str = None,\n",
    "        **kwargs\n",
    "    ):\n",
    "        '''\n",
    "        helpful kwargs may be:\n",
    "            kind: str (for example: 'data', 'view', 'task', 'transform', etc.)\n",
    "            meta: dict (a good place to store meta data)\n",
    "        '''\n",
    "        self.set_inputs(inputs=inputs or {})\n",
    "        super(MindlessFact, self).__init__(transform, name, **kwargs)\n",
    "\n",
    "    def set_inputs(self, inputs: dict):\n",
    "        self.inputs = inputs\n",
    "\n",
    "    def run(self, *args, **kwargs):\n",
    "        '''\n",
    "        might use gas in kwargs. we always aquire because we have no cache\n",
    "        we garbage collect the inputs by calling the function directly.\n",
    "        '''\n",
    "        if len(args) >= 1:\n",
    "            args[0] -= 1\n",
    "        if 'gas' in kwargs.keys() and kwargs.get('gas', 0) > 0:\n",
    "            kwargs['gas'] -= 1\n",
    "        return self.function(*args, **kwargs)\n",
    "\n",
    "    def function(self, *args, **kwargs):\n",
    "        import collections\n",
    "        output = self.transform(**{\n",
    "            name: function_object.run(*args, **kwargs)\n",
    "            for name, function_object in self.inputs.items()})\n",
    "        if isinstance(output, collections.Hashable):\n",
    "            this_hash = MindlessFact.sha256(output)\n",
    "            if this_hash != self.outsig:\n",
    "                self.outsig == this_hash\n",
    "                self.set_latest()\n",
    "        else:\n",
    "            self.set_latest()\n",
    "        return output\n",
    "\n",
    "    def transform(self, **kw):\n",
    "        ''' main '''\n",
    "        return self.name\n",
    "\n",
    "    def visualize(self, size=(8,5)):\n",
    "        '''\n",
    "        minimal\n",
    "        indications:\n",
    "            color: root node, parent nodes, ancestor nodes\n",
    "            size: cached\n",
    "            (color shape and size should be attribute of object, not derived here that way\n",
    "            you could ask a base type node to graph and it will ask ancestors for these details,\n",
    "            you could have a coordinating node which holds the mapping that they will return to you...)\n",
    "            shape: <not implemented, could be kind>\n",
    "        missing:\n",
    "            easthetics: uniformly layout\n",
    "            functionality: save to file\n",
    "            indicators: namespacing, kind, time cost, popularity, etc...\n",
    "        '''\n",
    "\n",
    "        def graph_heritage(current, seen):\n",
    "            seen.append(current)\n",
    "            parents = [v for v in current.inputs.values()]\n",
    "            for parent in parents:\n",
    "                if not graph.has_node(parent.name):\n",
    "                    graph.add_node(parent.name)\n",
    "                    sizes.append(1200 if parent.latest else 600)\n",
    "                    colors.append(\n",
    "                        '#d7a9e3'\n",
    "                        if parent in [v for v in self.inputs.values()]\n",
    "                        else '#8bbee8')\n",
    "                ancestors.append((parent.name, current.name))\n",
    "                if parent not in seen:\n",
    "                    graph_heritage(current=parent, seen=seen)\n",
    "\n",
    "        import networkx as nx\n",
    "        import matplotlib.pyplot as plt\n",
    "        graph = nx.DiGraph()\n",
    "        colors = []\n",
    "        sizes = []\n",
    "        ancestors = []\n",
    "        if not graph.has_node(self.name):\n",
    "            graph.add_node(self.name)\n",
    "            sizes.append(1200 if self.latest else 600)\n",
    "            colors.append('#a8d5ba')\n",
    "        graph_heritage(current=self, seen=[])\n",
    "        graph.add_edges_from(ancestors, weight=1)\n",
    "        pos = nx.spring_layout(graph)\n",
    "        nx.draw(graph, pos, with_labels=True, node_color=colors, node_size=sizes)\n",
    "\n",
    "        # gives all nodes a border\n",
    "        #ax= plt.gca()\n",
    "        ##print(ax.collections[0])\n",
    "        ##return ax.collections\n",
    "        #ax.collections[0].set_edgecolor(\"#000000\")\n",
    "        #plt.axis('off')\n",
    "\n",
    "        plt.rcParams[\"figure.figsize\"] = size\n",
    "        plt.show()\n",
    "\n",
    "\n",
    "class Fact(MindlessFact):\n",
    "    '''\n",
    "    basically a function that is responsible for\n",
    "    getting its own inputs and remembering its own outputs\n",
    "\n",
    "    features:\n",
    "        - has inputs (relies on other nodes for data)\n",
    "        - has cached output\n",
    "        - has timestamp of last time it ran\n",
    "    '''\n",
    "\n",
    "    def __init__(\n",
    "        self,\n",
    "        transform: callable = None,\n",
    "        inputs: dict = None,\n",
    "        name: str = None,\n",
    "        **kwargs\n",
    "    ):\n",
    "        '''\n",
    "        helpful kwargs may be:\n",
    "            prefer_cache: bool (referenced in self.run)\n",
    "            kind: str (for example: 'data', 'view', 'task', 'transform', etc.)\n",
    "            meta: dict (a good place to store meta data)\n",
    "        '''\n",
    "        self.clear(memory=True)\n",
    "        super(Fact, self).__init__(transform, inputs, name, **kwargs)\n",
    "\n",
    "\n",
    "    def set_inputs(self, inputs: dict):\n",
    "        self.inputs = inputs\n",
    "        self.ranutc = {name: None for name in self.inputs.keys()}\n",
    "\n",
    "    def clear(self, memory: bool = False):\n",
    "        self.latest = None\n",
    "        if memory:\n",
    "            self.output = None\n",
    "\n",
    "    def save(self, folder: str = None):\n",
    "        if self.latest is None:\n",
    "            return\n",
    "        self.to_binary(folder)\n",
    "\n",
    "    def restore(self, folder: str = None):\n",
    "        if self.latest is None:\n",
    "            return\n",
    "        self.from_binary(folder)\n",
    "\n",
    "    def to_binary(self, folder: str = None):\n",
    "        import os\n",
    "        import pickle\n",
    "        folder = folder or os.getcwd()\n",
    "        os.makedirs(folder, mode=0o777, exist_ok=True)\n",
    "        with open(os.path.join(folder, self.name, 'output'), mode='wb') as f:\n",
    "            pickle.dump(self.output, f)\n",
    "        with open(os.path.join(folder, self.name, 'inputs'), mode='wb') as f:\n",
    "            pickle.dump(self.inputs, f)\n",
    "        with open(os.path.join(folder, self.name, 'latest'), mode='wb') as f:\n",
    "            pickle.dump(self.latest, f)\n",
    "\n",
    "    def from_binary(self, folder: str = None):\n",
    "        import os\n",
    "        import pickle\n",
    "        folder = folder or os.getcwd()\n",
    "        os.makedirs(folder, mode=0o777, exist_ok=True)\n",
    "        with open(os.path.join(folder, self.name, 'output'), mode='rb') as f:\n",
    "            self.output = pickle.load(f)\n",
    "        with open(os.path.join(folder, self.name, 'inputs'), mode='rb') as f:\n",
    "            self.inputs = pickle.load(f)\n",
    "        with open(os.path.join(folder, self.name, 'latest'), mode='rb') as f:\n",
    "            self.latest = pickle.load(f)\n",
    "\n",
    "    def run(\n",
    "        self,\n",
    "        gas: int = 0,\n",
    "        condition: str = None,\n",
    "        force: bool = False,\n",
    "        **kwargs\n",
    "    ):\n",
    "        '''\n",
    "        `run()` tells asks the Fact to return cache if the cache is available\n",
    "        and up-to-date, or, if it isn't, gather the required inputs and execute\n",
    "        the function defined as 'transform'.\n",
    "\n",
    "        `gas` can specify how far back in the network we should look to verify\n",
    "        that our cache is up-to-date. valid values range from -1 and up:\n",
    "        -1 - infinite gas (DAGs only!) forces execution of all ancestors and self\n",
    "        0 - if cache: cache, else: get inputs, do function, save as cache\n",
    "        1 - request cached inputs and run functionality\n",
    "        2 - request non-cached inputs and run functionality\n",
    "        3 - request that inputs request non-cached inputs and recalculate...\n",
    "        4+ - so on and so forth...\n",
    "\n",
    "        condition is an override on gas and allows one to specify function\n",
    "        execution according to the condition itself. for instance one may want\n",
    "        the function to execute if the object provides up-to-date source data.\n",
    "        this could be accomplished by providing the following keyword argument:\n",
    "        `condition=\"self.kind == 'data'\"`\n",
    "\n",
    "        force means you want the function to run if it has gas to do so.\n",
    "        '''\n",
    "        if self.gather(gas) is None:\n",
    "            gas = gas if gas <= 0 else gas -1\n",
    "            self.function(**{\n",
    "                name: fact.run(gas=gas, condition=condition, force=force, **kwargs)\n",
    "                for name, fact in self.inputs.items()})\n",
    "        elif condition is not None:\n",
    "            try:\n",
    "                evaluated = eval(condition)\n",
    "            except Exception as e:\n",
    "                evaluated = False\n",
    "            if evaluated:\n",
    "                gas = gas if gas <= 0 else gas -1\n",
    "                self.function(**{\n",
    "                    name: fact.run(gas=gas, condition=condition, force=force, **kwargs)\n",
    "                    for name, fact in self.inputs.items()})\n",
    "        elif gas == -1:\n",
    "            self.function(**{\n",
    "                name: fact.run(gas=gas, condition=condition, force=force, **kwargs)\n",
    "                for name, fact in self.inputs.items()})\n",
    "        elif gas > 0 and force:\n",
    "            gas = gas if gas <= 0 else gas -1\n",
    "            self.function(**{\n",
    "                name: fact.run(gas=gas, condition=condition, force=force, **kwargs)\n",
    "                for name, fact in self.inputs.items()})\n",
    "        return self.get()\n",
    "\n",
    "    def gather(self, gas: int = 0):\n",
    "        ''' gets the latest timestamp out of everything '''\n",
    "        if gas != 0 and self.latest is not None:\n",
    "            gas = gas if gas <= 0 else gas -1\n",
    "            for name, fact in self.inputs.items():\n",
    "                if hasattr(fact, 'gather'):\n",
    "                    value = fact.gather(gas)\n",
    "                else:\n",
    "                    value = fact.latest\n",
    "                if value is None or value > self.latest:\n",
    "                    return None\n",
    "        return self.latest\n",
    "\n",
    "    def get(self):\n",
    "        return self.output\n",
    "\n",
    "    def function(self, **kwargs):\n",
    "        temp = self.output\n",
    "        self.output = self.transform(**kwargs)\n",
    "        if temp != self.output:\n",
    "            self.set_latest()\n",
    "\n",
    "    def transform(self, **kw):\n",
    "        ''' main '''\n",
    "        return self.output\n"
   ]
  },
  {
   "cell_type": "markdown",
   "metadata": {},
   "source": [
    "## Original Fact Object\n",
    "\n",
    "This original version was before it was converted to an inheritance structure. It both saved it's own output and it's inputs, making it simpler and easier to check if they've changed, but less memory efficient. the new version only remembers it's own output and uses timestamps of when things last ran to determin if it needs to run again. this is here for reference only, and will be removed at some point."
   ]
  },
  {
   "cell_type": "code",
   "execution_count": 2,
   "metadata": {},
   "outputs": [],
   "source": [
    "class OriginalFunction():\n",
    "    '''\n",
    "    basically a function that is responsible for\n",
    "    getting its own inputs and executes everytime\n",
    "    often used as input nodes\n",
    "    '''\n",
    "\n",
    "    def __init__(\n",
    "        self,\n",
    "        inputs: dict = None,\n",
    "        name: str = None,\n",
    "        transform: callable = None,\n",
    "        **kwargs\n",
    "    ):\n",
    "        self.set_inputs(inputs=inputs or {})\n",
    "        self.set_transform(transform)\n",
    "        self.set_name(name)\n",
    "        self.clear(memory=True)\n",
    "        self.__dict__.update({\n",
    "            k: v for k, v in kwargs.items()\n",
    "            if k not in dir(Function)})\n",
    "\n",
    "    def set_name(self, name: str):\n",
    "        self.name = name or (\n",
    "            self.transform.__name__\n",
    "            if self.transform.__name__ != 'transform'\n",
    "            else self.__repr__().split()[0].split('.')[-1])\n",
    "    \n",
    "    def set_inputs(self, inputs: dict):\n",
    "        self.inputs = inputs\n",
    "        self.kwargs = {name: None for name in self.inputs.keys()}\n",
    "\n",
    "    def clear(self, memory: bool = False):\n",
    "        self.cached = False\n",
    "        self.getout = False\n",
    "        if memory:\n",
    "            self.output = None\n",
    "            self.latest = None\n",
    "\n",
    "    def run(\n",
    "        self,\n",
    "        gas: int = 1,\n",
    "        condition: str = None,\n",
    "        prefer_cache: bool = None,\n",
    "        verbose: bool = False\n",
    "    ):\n",
    "        '''\n",
    "        gas can specify if we should pull from cache or not in this way:\n",
    "        -1 - infinite gas (DAGs only!)\n",
    "        0 - if cache: cache, else: get inputs, do function, save as cache\n",
    "        1 - request cached inputs and run functionality (default)\n",
    "        2 - request non-cached inputs and run functionality\n",
    "        3 - request that inputs request non-cached inputs and recalculate...\n",
    "        4+ - so on and so forth...\n",
    "\n",
    "        condition is an override on gas and allows one to specify function\n",
    "        execution according to the condition itself. for instance one may want\n",
    "        the function to execute if the object provides up-to-date source data.\n",
    "        this could be accomplished by providing the following keyword argument:\n",
    "            `condition=\"self.kind == 'data'\"`\n",
    "\n",
    "        prefer_cache means even if there is enough gas to run the function,\n",
    "        avoid doing so if the aquired inputs match the inputs used the last\n",
    "        time the function ran. it is an optimization for pure functions.\n",
    "        '''\n",
    "        prefer_cache = (\n",
    "            prefer_cache if prefer_cache is not None else (\n",
    "                self.prefer_cache if hasattr(self, 'prefer_cache') else False))\n",
    "        if condition is not None and eval(condition):\n",
    "            self.function()\n",
    "        elif gas == 0 and self.cached:\n",
    "            pass\n",
    "        else:\n",
    "            if gas == 0 and not self.cached:\n",
    "                self.aquire(gas=0)\n",
    "            elif gas >= 1:\n",
    "                self.aquire(gas=gas - 1)\n",
    "            elif gas == -1:\n",
    "                self.aquire(gas)\n",
    "            else:\n",
    "                self.aquire(0)\n",
    "            if (not self.cached or\n",
    "                not prefer_cache or\n",
    "                self.latest != self.kwargs\n",
    "            ):\n",
    "                self.function()\n",
    "        return self.get()\n",
    "\n",
    "    def aquire(self, gas: int = 0, condition: str = None):\n",
    "        for name, function_object in self.inputs.items():\n",
    "            self.kwargs[name] = function_object.run(gas, condition)\n",
    "\n",
    "    def get(self):\n",
    "        return self.output\n",
    "\n",
    "    def visualize(self, size=(8,5)):\n",
    "        '''\n",
    "        minimal, no uniformly layout, unable to save to file, no namespacing\n",
    "        and no indications such as cached, kind, cost in time, or popularity...\n",
    "        '''\n",
    "\n",
    "        def graph_heritage(current, seen):\n",
    "            seen.append(current)\n",
    "            parents = [v for v in current.inputs.values()]\n",
    "            for parent in parents:\n",
    "                if not graph.has_node(parent.name):\n",
    "                    graph.add_node(parent.name)\n",
    "                    sizes.append(1200 if parent.cached else 600)\n",
    "                    colors.append(\n",
    "                        '#d7a9e3'\n",
    "                        if parent in [v for v in self.inputs.values()]\n",
    "                        else '#8bbee8')\n",
    "                ancestors.append((parent.name, current.name))\n",
    "                if parent not in seen:\n",
    "                    graph_heritage(current=parent, seen=seen)\n",
    "\n",
    "        import networkx as nx\n",
    "        import matplotlib.pyplot as plt\n",
    "        graph = nx.DiGraph()\n",
    "        colors = []\n",
    "        sizes = []\n",
    "        ancestors = []\n",
    "        if not graph.has_node(self.name):\n",
    "            graph.add_node(self.name)\n",
    "            sizes.append(1200 if self.cached else 600)\n",
    "            colors.append('#a8d5ba')\n",
    "        graph_heritage(current=self, seen=[])\n",
    "        graph.add_edges_from(ancestors, weight=1)\n",
    "        pos = nx.spring_layout(graph)\n",
    "        nx.draw(graph, pos, with_labels=True, node_color=colors, node_size=sizes)\n",
    "\n",
    "        # gives all nodes a border \n",
    "        #ax= plt.gca()\n",
    "        ##print(ax.collections[0])\n",
    "        ##return ax.collections\n",
    "        #ax.collections[0].set_edgecolor(\"#000000\")\n",
    "        #plt.axis('off')\n",
    "        \n",
    "        plt.rcParams[\"figure.figsize\"] = size\n",
    "        plt.show()\n",
    "\n",
    "    def function(self):\n",
    "        self.latest = self.kwargs\n",
    "        self.output = self.transform(**self.kwargs)\n",
    "        self.cached = True\n",
    "\n",
    "    def transform(self, **kw):\n",
    "        ''' main '''\n",
    "        return self.output\n",
    "\n",
    "    def set_transform(self, function: callable = None):\n",
    "        if function is None:\n",
    "            return\n",
    "        if function.__code__.co_varnames[0] == 'self':\n",
    "            self.transform = function.__get__(self)\n",
    "        else:\n",
    "            self.transform = function\n",
    "    \n",
    "    def add_method(self, function: callable):\n",
    "        ''' \n",
    "        a way to add other methods to the instance for transform to call into... \n",
    "        ideally they would start with _ and would not rely on self. \n",
    "        merely for code management.\n",
    "        '''\n",
    "        if function.__code__.co_varnames[0] == 'self':\n",
    "            exec(f'self.{function.__name__} = function.__get__(self)')\n",
    "        else:\n",
    "            exec(f'self.{function.__name__} = function')"
   ]
  },
  {
   "cell_type": "markdown",
   "metadata": {},
   "source": [
    "# Examples"
   ]
  },
  {
   "cell_type": "markdown",
   "metadata": {},
   "source": [
    "Here's one way to make an Fact. This is not the typical way, unless perhaps you wanted to create a fact type that has special functionality, such as might be the case in an ETL process where some nodes are extract nodes, others transform nodes, and others load nodes, and others still might even be visualize nodes, etc."
   ]
  },
  {
   "cell_type": "code",
   "execution_count": 3,
   "metadata": {},
   "outputs": [],
   "source": [
    "class A(Fact):\n",
    "    def transform(self, **kw):\n",
    "        print('A running!')\n",
    "        return 1"
   ]
  },
  {
   "cell_type": "code",
   "execution_count": null,
   "metadata": {},
   "outputs": [],
   "source": []
  },
  {
   "cell_type": "code",
   "execution_count": 4,
   "metadata": {},
   "outputs": [],
   "source": [
    "a = A(name='Alpha')"
   ]
  },
  {
   "cell_type": "code",
   "execution_count": 5,
   "metadata": {},
   "outputs": [
    {
     "data": {
      "text/plain": [
       "'Alpha'"
      ]
     },
     "execution_count": 5,
     "metadata": {},
     "output_type": "execute_result"
    }
   ],
   "source": [
    "a.name"
   ]
  },
  {
   "cell_type": "code",
   "execution_count": 6,
   "metadata": {},
   "outputs": [
    {
     "data": {
      "image/png": "[encoded data removed]",
      "text/plain": [
       "<Figure size 432x288 with 1 Axes>"
      ]
     },
     "metadata": {},
     "output_type": "display_data"
    }
   ],
   "source": [
    "a.visualize()"
   ]
  },
  {
   "cell_type": "code",
   "execution_count": 7,
   "metadata": {},
   "outputs": [
    {
     "data": {
      "text/plain": [
       "{}"
      ]
     },
     "execution_count": 7,
     "metadata": {},
     "output_type": "execute_result"
    }
   ],
   "source": [
    "a.inputs"
   ]
  },
  {
   "cell_type": "code",
   "execution_count": 8,
   "metadata": {},
   "outputs": [
    {
     "name": "stdout",
     "output_type": "stream",
     "text": [
      "None\n"
     ]
    }
   ],
   "source": [
    "print(a.output)"
   ]
  },
  {
   "cell_type": "markdown",
   "metadata": {},
   "source": [
    "lets tell the function to run by giving it one unit of gas."
   ]
  },
  {
   "cell_type": "code",
   "execution_count": 9,
   "metadata": {},
   "outputs": [
    {
     "name": "stdout",
     "output_type": "stream",
     "text": [
      "A running!\n"
     ]
    },
    {
     "data": {
      "text/plain": [
       "1"
      ]
     },
     "execution_count": 9,
     "metadata": {},
     "output_type": "execute_result"
    }
   ],
   "source": [
    "a.run(1)"
   ]
  },
  {
   "cell_type": "markdown",
   "metadata": {},
   "source": [
    "Since it remembers it's output if we give it a unit of gas again it will not run the function, it will just return the latest results"
   ]
  },
  {
   "cell_type": "code",
   "execution_count": 10,
   "metadata": {},
   "outputs": [
    {
     "data": {
      "text/plain": [
       "1"
      ]
     },
     "execution_count": 10,
     "metadata": {},
     "output_type": "execute_result"
    }
   ],
   "source": [
    "a.run(1)"
   ]
  },
  {
   "cell_type": "markdown",
   "metadata": {},
   "source": [
    "Let's force it to run (if it has the gas to do so)"
   ]
  },
  {
   "cell_type": "code",
   "execution_count": 11,
   "metadata": {},
   "outputs": [
    {
     "name": "stdout",
     "output_type": "stream",
     "text": [
      "A running!\n"
     ]
    },
    {
     "data": {
      "text/plain": [
       "1"
      ]
     },
     "execution_count": 11,
     "metadata": {},
     "output_type": "execute_result"
    }
   ],
   "source": [
    "a.run(1, force=True)"
   ]
  },
  {
   "cell_type": "code",
   "execution_count": 12,
   "metadata": {},
   "outputs": [
    {
     "name": "stdout",
     "output_type": "stream",
     "text": [
      "1\n"
     ]
    }
   ],
   "source": [
    "print(a.output)"
   ]
  },
  {
   "cell_type": "markdown",
   "metadata": {},
   "source": [
    "lets make another"
   ]
  },
  {
   "cell_type": "code",
   "execution_count": 13,
   "metadata": {},
   "outputs": [],
   "source": [
    "class B(Fact):\n",
    "    def transform(self, **kw):\n",
    "        print('B running!')\n",
    "        return 2"
   ]
  },
  {
   "cell_type": "code",
   "execution_count": 14,
   "metadata": {},
   "outputs": [],
   "source": [
    "b = B(name='Beta')"
   ]
  },
  {
   "cell_type": "markdown",
   "metadata": {},
   "source": [
    "lets actually no run it right now"
   ]
  },
  {
   "cell_type": "code",
   "execution_count": 15,
   "metadata": {},
   "outputs": [],
   "source": [
    "# b.run()"
   ]
  },
  {
   "cell_type": "code",
   "execution_count": 16,
   "metadata": {},
   "outputs": [
    {
     "name": "stdout",
     "output_type": "stream",
     "text": [
      "None\n"
     ]
    }
   ],
   "source": [
    "print(b.output)"
   ]
  },
  {
   "cell_type": "markdown",
   "metadata": {},
   "source": [
    "Lets make another, this time we wont make a whole new class, we'll use the class and attach a method to it"
   ]
  },
  {
   "cell_type": "code",
   "execution_count": 17,
   "metadata": {},
   "outputs": [],
   "source": [
    "def c_transform(self, **kw):\n",
    "    print('C running!')\n",
    "    return self.kwargs['A'] + self.kwargs['B'] # doesn't work, object doesn't remember kwargs anymore\n",
    "\n",
    "def c_transform_without_self(**kw):\n",
    "    print('C running!')\n",
    "    return kw['A'] + kw['B']"
   ]
  },
  {
   "cell_type": "code",
   "execution_count": 18,
   "metadata": {},
   "outputs": [],
   "source": [
    "c = Fact(\n",
    "    inputs={'A': a, 'B': b},\n",
    "    transform=c_transform_without_self,  \n",
    "    #transform=c_transform,  # also valid\n",
    ")\n",
    "\n",
    "# c.set_transform(c_transform)  # also valid"
   ]
  },
  {
   "cell_type": "markdown",
   "metadata": {},
   "source": [
    "we didn't specify a name so the function name becomes it's name"
   ]
  },
  {
   "cell_type": "code",
   "execution_count": 19,
   "metadata": {},
   "outputs": [
    {
     "data": {
      "text/plain": [
       "'c_transform_without_self'"
      ]
     },
     "execution_count": 19,
     "metadata": {},
     "output_type": "execute_result"
    }
   ],
   "source": [
    "c.transform.__name__"
   ]
  },
  {
   "cell_type": "code",
   "execution_count": 20,
   "metadata": {},
   "outputs": [
    {
     "data": {
      "text/plain": [
       "'c_transform_without_self'"
      ]
     },
     "execution_count": 20,
     "metadata": {},
     "output_type": "execute_result"
    }
   ],
   "source": [
    "c.name"
   ]
  },
  {
   "cell_type": "markdown",
   "metadata": {},
   "source": [
    "notice Alpha node is bigger than Beta node, that's because it has cached data"
   ]
  },
  {
   "cell_type": "code",
   "execution_count": 21,
   "metadata": {},
   "outputs": [
    {
     "data": {
      "image/png": "[encoded data removed]",
      "text/plain": [
       "<Figure size 576x360 with 1 Axes>"
      ]
     },
     "metadata": {},
     "output_type": "display_data"
    }
   ],
   "source": [
    "c.visualize()"
   ]
  },
  {
   "cell_type": "markdown",
   "metadata": {},
   "source": [
    "Since we never ran B, C will realize we have to and will run it even though we didn't give it any gas"
   ]
  },
  {
   "cell_type": "code",
   "execution_count": 22,
   "metadata": {},
   "outputs": [
    {
     "name": "stdout",
     "output_type": "stream",
     "text": [
      "B running!\n",
      "C running!\n"
     ]
    },
    {
     "data": {
      "text/plain": [
       "3"
      ]
     },
     "execution_count": 22,
     "metadata": {},
     "output_type": "execute_result"
    }
   ],
   "source": [
    "c.run()"
   ]
  },
  {
   "cell_type": "markdown",
   "metadata": {},
   "source": [
    "lets run it again with -1 gas to indicate infinite gas, and forcing run of everything"
   ]
  },
  {
   "cell_type": "code",
   "execution_count": 23,
   "metadata": {},
   "outputs": [
    {
     "name": "stdout",
     "output_type": "stream",
     "text": [
      "A running!\n",
      "B running!\n",
      "C running!\n"
     ]
    },
    {
     "data": {
      "text/plain": [
       "3"
      ]
     },
     "execution_count": 23,
     "metadata": {},
     "output_type": "execute_result"
    }
   ],
   "source": [
    "c.run(-1)"
   ]
  },
  {
   "cell_type": "code",
   "execution_count": 24,
   "metadata": {},
   "outputs": [
    {
     "data": {
      "text/plain": [
       "3"
      ]
     },
     "execution_count": 24,
     "metadata": {},
     "output_type": "execute_result"
    }
   ],
   "source": [
    "c.run(1)"
   ]
  },
  {
   "cell_type": "markdown",
   "metadata": {},
   "source": [
    "lets make another one, we can name inputs anything internally."
   ]
  },
  {
   "cell_type": "code",
   "execution_count": 25,
   "metadata": {},
   "outputs": [],
   "source": [
    "class D(Fact):\n",
    "    def transform(self, **kw):\n",
    "        print('D running!')\n",
    "        return _layer_1(**kw)"
   ]
  },
  {
   "cell_type": "code",
   "execution_count": 26,
   "metadata": {},
   "outputs": [],
   "source": [
    "d = D(inputs={'M': c})"
   ]
  },
  {
   "cell_type": "markdown",
   "metadata": {},
   "source": [
    "since we didn't name it and didn't give it's transformation function a name it takes the name of the class"
   ]
  },
  {
   "cell_type": "code",
   "execution_count": 27,
   "metadata": {},
   "outputs": [
    {
     "data": {
      "text/plain": [
       "'D'"
      ]
     },
     "execution_count": 27,
     "metadata": {},
     "output_type": "execute_result"
    }
   ],
   "source": [
    "d.name"
   ]
  },
  {
   "cell_type": "markdown",
   "metadata": {},
   "source": [
    "we can add methods to the instance that transform function can call"
   ]
  },
  {
   "cell_type": "code",
   "execution_count": 28,
   "metadata": {},
   "outputs": [],
   "source": [
    "def _layer_1(**kw):\n",
    "    return kw['M']+1\n",
    "d.add_method(_layer_1)"
   ]
  },
  {
   "cell_type": "markdown",
   "metadata": {},
   "source": [
    "root in question is green, parents are purple and ancestors are blue"
   ]
  },
  {
   "cell_type": "code",
   "execution_count": 29,
   "metadata": {},
   "outputs": [
    {
     "data": {
      "image/png": "[encoded data removed]",
      "text/plain": [
       "<Figure size 576x360 with 1 Axes>"
      ]
     },
     "metadata": {},
     "output_type": "display_data"
    }
   ],
   "source": [
    "d.visualize()"
   ]
  },
  {
   "cell_type": "markdown",
   "metadata": {},
   "source": [
    "lets run it, everything else has been cached already"
   ]
  },
  {
   "cell_type": "code",
   "execution_count": 30,
   "metadata": {},
   "outputs": [
    {
     "name": "stdout",
     "output_type": "stream",
     "text": [
      "D running!\n"
     ]
    },
    {
     "data": {
      "text/plain": [
       "4"
      ]
     },
     "execution_count": 30,
     "metadata": {},
     "output_type": "execute_result"
    }
   ],
   "source": [
    "d.run()"
   ]
  },
  {
   "cell_type": "code",
   "execution_count": 31,
   "metadata": {},
   "outputs": [
    {
     "data": {
      "text/plain": [
       "4"
      ]
     },
     "execution_count": 31,
     "metadata": {},
     "output_type": "execute_result"
    }
   ],
   "source": [
    "d.run(0)"
   ]
  },
  {
   "cell_type": "code",
   "execution_count": 32,
   "metadata": {},
   "outputs": [
    {
     "data": {
      "text/plain": [
       "4"
      ]
     },
     "execution_count": 32,
     "metadata": {},
     "output_type": "execute_result"
    }
   ],
   "source": [
    "d.run(1)"
   ]
  },
  {
   "cell_type": "code",
   "execution_count": 33,
   "metadata": {},
   "outputs": [
    {
     "name": "stdout",
     "output_type": "stream",
     "text": [
      "C running!\n",
      "D running!\n"
     ]
    },
    {
     "data": {
      "text/plain": [
       "4"
      ]
     },
     "execution_count": 33,
     "metadata": {},
     "output_type": "execute_result"
    }
   ],
   "source": [
    "d.run(2, force=True)"
   ]
  },
  {
   "cell_type": "code",
   "execution_count": 34,
   "metadata": {},
   "outputs": [
    {
     "data": {
      "text/plain": [
       "4"
      ]
     },
     "execution_count": 34,
     "metadata": {},
     "output_type": "execute_result"
    }
   ],
   "source": [
    "d.run(3)"
   ]
  },
  {
   "cell_type": "code",
   "execution_count": 35,
   "metadata": {},
   "outputs": [
    {
     "name": "stdout",
     "output_type": "stream",
     "text": [
      "A running!\n",
      "B running!\n",
      "C running!\n",
      "D running!\n"
     ]
    },
    {
     "data": {
      "text/plain": [
       "4"
      ]
     },
     "execution_count": 35,
     "metadata": {},
     "output_type": "execute_result"
    }
   ],
   "source": [
    "d.run(-1)"
   ]
  },
  {
   "cell_type": "markdown",
   "metadata": {},
   "source": [
    "lets make one more"
   ]
  },
  {
   "cell_type": "code",
   "execution_count": 36,
   "metadata": {},
   "outputs": [],
   "source": [
    "def transform(**kw):\n",
    "    print('E running!')\n",
    "    return kw['A'] + kw['D']"
   ]
  },
  {
   "cell_type": "code",
   "execution_count": 37,
   "metadata": {},
   "outputs": [],
   "source": [
    "e = Fact(\n",
    "    inputs={'A': a, 'D': d},\n",
    "    transform=transform,\n",
    "    kind='Viz')"
   ]
  },
  {
   "cell_type": "markdown",
   "metadata": {},
   "source": [
    "we didn't give it a name, we didn't give transform a new name, we didn't give the class a new name, so it will make one up"
   ]
  },
  {
   "cell_type": "code",
   "execution_count": 38,
   "metadata": {},
   "outputs": [
    {
     "data": {
      "text/plain": [
       "'ljwzekivdxbx'"
      ]
     },
     "execution_count": 38,
     "metadata": {},
     "output_type": "execute_result"
    }
   ],
   "source": [
    "e.name"
   ]
  },
  {
   "cell_type": "code",
   "execution_count": 39,
   "metadata": {},
   "outputs": [
    {
     "data": {
      "image/png": "[encoded data removed]",
      "text/plain": [
       "<Figure size 576x360 with 1 Axes>"
      ]
     },
     "metadata": {},
     "output_type": "display_data"
    }
   ],
   "source": [
    "e.visualize()"
   ]
  },
  {
   "cell_type": "code",
   "execution_count": 40,
   "metadata": {},
   "outputs": [
    {
     "name": "stdout",
     "output_type": "stream",
     "text": [
      "E running!\n"
     ]
    },
    {
     "data": {
      "text/plain": [
       "5"
      ]
     },
     "execution_count": 40,
     "metadata": {},
     "output_type": "execute_result"
    }
   ],
   "source": [
    "e.run()"
   ]
  },
  {
   "cell_type": "markdown",
   "metadata": {},
   "source": [
    "lets tell e to refresh it's dataset if a condition is met"
   ]
  },
  {
   "cell_type": "code",
   "execution_count": 41,
   "metadata": {},
   "outputs": [
    {
     "data": {
      "text/plain": [
       "5"
      ]
     },
     "execution_count": 41,
     "metadata": {},
     "output_type": "execute_result"
    }
   ],
   "source": [
    "e.run()"
   ]
  },
  {
   "cell_type": "code",
   "execution_count": 42,
   "metadata": {},
   "outputs": [
    {
     "name": "stdout",
     "output_type": "stream",
     "text": [
      "E running!\n"
     ]
    },
    {
     "data": {
      "text/plain": [
       "5"
      ]
     },
     "execution_count": 42,
     "metadata": {},
     "output_type": "execute_result"
    }
   ],
   "source": [
    "e.run(condition=\"self.kind == 'Viz'\")"
   ]
  },
  {
   "cell_type": "markdown",
   "metadata": {},
   "source": [
    "# recursion\n",
    "\n",
    "The following structure is a hash structure it contains one and only one loop. We can't use `gas=-1` because it will loop forever. This is fine in this case; we know they converge."
   ]
  },
  {
   "cell_type": "code",
   "execution_count": 43,
   "metadata": {},
   "outputs": [],
   "source": [
    "class X(Fact):\n",
    "    def transform(self, **kw):\n",
    "        if kw['Y'] < 10:\n",
    "            i = kw['Y']+1\n",
    "        else: \n",
    "            i = kw['Y']\n",
    "        print(self.name, 'running! returning', i)\n",
    "        return i\n",
    "    \n",
    "    \n",
    "class Y(Fact):\n",
    "    def transform(self, **kw):\n",
    "        if kw['X'] < 6:\n",
    "            i = kw['X']+1\n",
    "        else: \n",
    "            i = kw['X']\n",
    "        print(self.name, 'running! returning', i)\n",
    "        return i\n",
    "    \n",
    "    \n",
    "class Z(Fact):\n",
    "    def transform(self, **kw):\n",
    "        i = kw['Y']+1\n",
    "        print(self.name, 'running! returning', i)\n",
    "        return i"
   ]
  },
  {
   "cell_type": "code",
   "execution_count": 44,
   "metadata": {},
   "outputs": [],
   "source": [
    "x = X(name='x')\n",
    "y = Y(inputs={'X': x}, name='y')\n",
    "z = Z(inputs={'Y': y}, name='z')\n",
    "x.set_inputs(inputs={'Y': y})"
   ]
  },
  {
   "cell_type": "code",
   "execution_count": 45,
   "metadata": {},
   "outputs": [
    {
     "data": {
      "image/png": "[encoded data removed]",
      "text/plain": [
       "<Figure size 576x360 with 1 Axes>"
      ]
     },
     "metadata": {},
     "output_type": "display_data"
    }
   ],
   "source": [
    "z.visualize()"
   ]
  },
  {
   "cell_type": "markdown",
   "metadata": {},
   "source": [
    "notice, it counts up until X=6 then Y stops incrementing, but X continues to increment until it reaches 10, then, it still has gas left over so it continues to call each other until the gas runs out and the answer is returned to Z which runs it's own function that increments that answer by 1 and returns 11. \n",
    "\n",
    "This is a loop completely governed by gas, and the fact that one member of the loop was seeded with a default value. Since each function has internal state, being an object itself, loop behavior could be governed by internal counters, theoretically.\n",
    "\n",
    "As you can see, creating a loop is difficult to manage and dangerous to execute. So it's best to make DAGs in general, but recursive relationships are possible. In fact, in an idealized parallel version of this design there would exist a main loop which runs forever, keeping the program alive."
   ]
  },
  {
   "cell_type": "code",
   "execution_count": 46,
   "metadata": {},
   "outputs": [],
   "source": [
    "import datetime as dt\n",
    "x.output = 0\n",
    "x.latest = dt.datetime.utcnow().timestamp()"
   ]
  },
  {
   "cell_type": "code",
   "execution_count": 47,
   "metadata": {},
   "outputs": [
    {
     "name": "stdout",
     "output_type": "stream",
     "text": [
      "y running! returning 1\n",
      "x running! returning 2\n",
      "y running! returning 3\n",
      "x running! returning 4\n",
      "y running! returning 5\n",
      "x running! returning 6\n",
      "y running! returning 6\n",
      "x running! returning 7\n",
      "y running! returning 7\n",
      "x running! returning 8\n",
      "y running! returning 8\n",
      "x running! returning 9\n",
      "y running! returning 9\n",
      "x running! returning 10\n",
      "y running! returning 10\n",
      "x running! returning 10\n",
      "y running! returning 10\n",
      "x running! returning 10\n",
      "y running! returning 10\n",
      "z running! returning 11\n"
     ]
    },
    {
     "data": {
      "text/plain": [
       "11"
      ]
     },
     "execution_count": 47,
     "metadata": {},
     "output_type": "execute_result"
    }
   ],
   "source": [
    "z.run(20)"
   ]
  },
  {
   "cell_type": "code",
   "execution_count": null,
   "metadata": {},
   "outputs": [],
   "source": []
  },
  {
   "cell_type": "code",
   "execution_count": null,
   "metadata": {},
   "outputs": [],
   "source": []
  }
 ],
 "metadata": {
  "kernelspec": {
   "display_name": "Python 3",
   "language": "python",
   "name": "python3"
  },
  "language_info": {
   "codemirror_mode": {
    "name": "ipython",
    "version": 3
   },
   "file_extension": ".py",
   "mimetype": "text/x-python",
   "name": "python",
   "nbconvert_exporter": "python",
   "pygments_lexer": "ipython3",
   "version": "3.8.4"
  }
 },
 "nbformat": 4,
 "nbformat_minor": 4
}
