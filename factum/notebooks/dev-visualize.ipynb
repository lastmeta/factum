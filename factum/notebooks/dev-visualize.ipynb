{
 "cells": [
  {
   "cell_type": "markdown",
   "metadata": {},
   "source": [
    "# Visualization\n",
    "\n",
    "In theory we could build a dask dag graph from the inputs values of the objects. but this is hard to test and develop since this machine can't install conda, and we need conda to properly install graphviz because we're using dask to visiualize it...\n",
    "\n",
    "we'll see what we can do with networkx"
   ]
  },
  {
   "cell_type": "code",
   "execution_count": null,
   "metadata": {},
   "outputs": [],
   "source": [
    "import networkx as nx\n",
    "import numpy as np\n",
    "import matplotlib.pyplot as plt\n",
    "#import pylab\n",
    "\n",
    "G = nx.DiGraph()\n",
    "\n",
    "G.add_edges_from([('A', 'B'),('C','D'),('G','D')], weight=1)\n",
    "G.add_edges_from([('D','A'),('D','E'),('B','D'),('D','E')], weight=2)\n",
    "G.add_edges_from([('B','C'),('E','F')], weight=3)\n",
    "G.add_edges_from([('C','F')], weight=4)\n",
    "\n",
    "cities = {0: \"Toronto\", 1: \"London\", 2: \"Berlin\", 3: \"New York\"}\n",
    "\n",
    "G = nx.relabel_nodes(G, cities)\n",
    "\n",
    "\n",
    "val_map = {\n",
    "    'A': 1.50,\n",
    "    #'D': 0.25,\n",
    "    'H': 0.94}\n",
    "#\n",
    "#values = [val_map.get(node, '.6') for node in G.nodes()]\n",
    "values = ['.9' for node in G.nodes()]  # cmap=\"Spectral\",\n",
    "#values = [val_map.get(node, '#FFFFFF') for node in G.nodes()]\n",
    "#edge_labels=dict([((u,v,),d['weight'])\n",
    "#                 for u,v,d in G.edges(data=True)])\n",
    "#red_edges = [('C','D'),('D','A')]\n",
    "#edge_colors = ['black' if not edge in red_edges else 'red' for edge in G.edges()]\n",
    "\n",
    "pos = nx.spring_layout(G)\n",
    "#nx.draw_networkx_edge_labels(G, pos, ) #edge_labels=edge_labels)\n",
    "nx.draw(G, pos, with_labels=True, node_color=values, node_size=1500, )#edge_color=edge_colors,edge_cmap=plt.cm.Reds)\n",
    "plt.show()"
   ]
  },
  {
   "cell_type": "code",
   "execution_count": null,
   "metadata": {},
   "outputs": [],
   "source": []
  },
  {
   "cell_type": "code",
   "execution_count": null,
   "metadata": {},
   "outputs": [],
   "source": []
  },
  {
   "cell_type": "code",
   "execution_count": null,
   "metadata": {},
   "outputs": [],
   "source": []
  },
  {
   "cell_type": "code",
   "execution_count": null,
   "metadata": {},
   "outputs": [],
   "source": []
  },
  {
   "cell_type": "code",
   "execution_count": null,
   "metadata": {},
   "outputs": [],
   "source": []
  },
  {
   "cell_type": "code",
   "execution_count": null,
   "metadata": {},
   "outputs": [],
   "source": []
  },
  {
   "cell_type": "code",
   "execution_count": null,
   "metadata": {},
   "outputs": [],
   "source": [
    "import dask\n",
    "dag = {\n",
    "    'A': (a.run, *a.inputs.keys()),\n",
    "    'B': (b.run, *b.inputs.keys()),\n",
    "    'C': (c.run, *c.inputs.keys()),\n",
    "    'D': (d.run, *d.inputs.keys()),\n",
    "}\n",
    "dask.visualize(dag)"
   ]
  },
  {
   "cell_type": "code",
   "execution_count": null,
   "metadata": {},
   "outputs": [],
   "source": []
  },
  {
   "cell_type": "code",
   "execution_count": null,
   "metadata": {},
   "outputs": [],
   "source": [
    "import networkx as nx\n",
    "\n",
    "graph = nx.DiGraph()\n",
    "graph.add_edges_from([(\"root\", \"a\"), (\"a\", \"b\"), (\"a\", \"e\"), (\"b\", \"c\"), (\"b\", \"d\"), (\"d\", \"e\")])"
   ]
  },
  {
   "cell_type": "code",
   "execution_count": null,
   "metadata": {},
   "outputs": [],
   "source": [
    "import networkx as nx  \n",
    "import matplotlib.pyplot as plt\n",
    "G=nx.DiGraph()\n",
    "G.add_node(0),G.add_node('11111'),G.add_node(2),G.add_node(3),G.add_node(4)\n",
    "G.add_edge(0, '11111'),G.add_edge('11111', 2),G.add_edge(0, 2),G.add_edge('11111', 4),G.add_edge('11111', 3),G.add_edge(3, 2),G.add_edge(3,'11111'),G.add_edge(4,3)\n",
    "nx.draw(G, with_labels=True, font_weight='bold')\n",
    "plt.show()"
   ]
  },
  {
   "cell_type": "code",
   "execution_count": null,
   "metadata": {},
   "outputs": [],
   "source": [
    "import networkx as nx\n",
    "import numpy as np\n",
    "import matplotlib.pyplot as plt\n",
    "import pylab\n",
    "\n",
    "G = nx.DiGraph()\n",
    "\n",
    "G.add_edges_from([('A', 'B'),('C','D'),('G','D')], weight=1)\n",
    "G.add_edges_from([('D','A'),('D','E'),('B','D'),('D','E')], weight=2)\n",
    "G.add_edges_from([('B','C'),('E','F')], weight=3)\n",
    "G.add_edges_from([('C','F')], weight=4)\n",
    "\n",
    "val_map = {\n",
    "    'A': 2.5,\n",
    "    'D': 0.5,\n",
    "    'H': 0.94}\n",
    "\n",
    "values = [val_map.get(node, .0) for node in G.nodes()]\n",
    "#edge_labels=dict([((u,v,),d['weight'])\n",
    "#                 for u,v,d in G.edges(data=True)])\n",
    "#red_edges = [('C','D'),('D','A')]\n",
    "#edge_colors = ['black' if not edge in red_edges else 'red' for edge in G.edges()]\n",
    "\n",
    "pos = nx.spring_layout(G)\n",
    "#nx.draw_networkx_edge_labels(G, pos, ) #edge_labels=edge_labels)\n",
    "nx.draw(G,pos, node_color=values, node_size=1500, )#edge_color=edge_colors,edge_cmap=plt.cm.Reds)\n",
    "pylab.show()"
   ]
  },
  {
   "cell_type": "code",
   "execution_count": null,
   "metadata": {},
   "outputs": [],
   "source": [
    "from graphviz import Digraph\n",
    "\n",
    "dot = Digraph()\n",
    "dot.node('A', 'A')\n",
    "dot.node('B', 'B')\n",
    "dot.node('C', 'C')\n",
    "dot.edges(['AB', 'AB', 'AB', 'BC', 'BA', 'CB'])\n",
    "\n",
    "print(dot.source)\n",
    "dot.render(file_name, view=True)"
   ]
  },
  {
   "cell_type": "code",
   "execution_count": null,
   "metadata": {},
   "outputs": [],
   "source": [
    "import graphviz\n",
    "from IPython.display import display\n",
    "graphviz.Source(dot).view()\n",
    "# display(graphviz.Source(dot))"
   ]
  },
  {
   "cell_type": "code",
   "execution_count": null,
   "metadata": {},
   "outputs": [],
   "source": [
    "import networkx as nx\n",
    "import matplotlib.pyplot as plt\n",
    "\n",
    "G=nx.path_graph(4)\n",
    "\n",
    "print(\"Nodes of graph: \")\n",
    "print(G.nodes())\n",
    "print(\"Edges of graph: \")\n",
    "print(G.edges())\n",
    "nx.draw(G)\n",
    "plt.savefig(\"path_graph1.png\")\n",
    "plt.show()\n",
    "#nx.spring_layout(G)"
   ]
  },
  {
   "cell_type": "code",
   "execution_count": null,
   "metadata": {},
   "outputs": [],
   "source": [
    "import networkx as nx\n",
    "import matplotlib.pyplot as plt\n",
    "import pylab\n",
    "G = nx.DiGraph()\n",
    "\n",
    "cities = {0: \"Toronto\", 1: \"London\", 2: \"Berlin\", 3: \"New York\"}\n",
    "\n",
    "#G = nx.spring_layout(G) \n",
    "G = nx.relabel_nodes(G, cities)\n",
    "\n",
    "nx.draw(G, with_labels=True, node_size=2000, node_color='#bbb4d9', node_shape='so^>v<dph8'[1])\n",
    "#nx.draw_networkx_nodes(G, node_size=200, node_color='#00b4d9')\n",
    "#plt.savefig(\"path_graph_cities.png\")\n",
    "plt.show()\n"
   ]
  },
  {
   "cell_type": "code",
   "execution_count": null,
   "metadata": {},
   "outputs": [],
   "source": [
    "import matplotlib.pyplot as plt\n",
    "import networkx as nx\n",
    "\n",
    "# This example needs Graphviz and either PyGraphviz or pydot\n",
    "from networkx.drawing.nx_pydot import graphviz_layout\n",
    "#from networkx.drawing.nx_agraph import graphviz_layout\n",
    "\n",
    "\n",
    "G = nx.balanced_tree(3, 5)\n",
    "pos = graphviz_layout(G, prog=\"twopi\")\n",
    "plt.figure(figsize=(8, 8))\n",
    "nx.draw(G, pos, node_size=20, alpha=0.5, node_color=\"blue\", with_labels=False)\n",
    "plt.axis(\"equal\")\n",
    "plt.show()"
   ]
  },
  {
   "cell_type": "code",
   "execution_count": null,
   "metadata": {},
   "outputs": [],
   "source": [
    "from operator import itemgetter\n",
    "\n",
    "import matplotlib.pyplot as plt\n",
    "import networkx as nx\n",
    "\n",
    "# Create a BA model graph\n",
    "n = 1000\n",
    "m = 2\n",
    "G = nx.generators.barabasi_albert_graph(n, m)\n",
    "\n",
    "# find node with largest degree\n",
    "node_and_degree = G.degree()\n",
    "(largest_hub, degree) = sorted(node_and_degree, key=itemgetter(1))[-1]\n",
    "\n",
    "# Create ego graph of main hub\n",
    "hub_ego = nx.ego_graph(G, largest_hub)\n",
    "\n",
    "# Draw graph\n",
    "pos = nx.spring_layout(hub_ego)\n",
    "nx.draw(hub_ego, pos, node_color=\"b\", node_size=50, with_labels=False)\n",
    "\n",
    "# Draw ego as large and red\n",
    "options = {\"node_size\": 300, \"node_color\": \"r\"}\n",
    "nx.draw_networkx_nodes(hub_ego, pos, nodelist=[largest_hub], **options)\n",
    "plt.show()"
   ]
  },
  {
   "cell_type": "code",
   "execution_count": null,
   "metadata": {},
   "outputs": [],
   "source": [
    "import itertools\n",
    "import matplotlib.pyplot as plt\n",
    "import networkx as nx\n",
    "\n",
    "from networkx.utils import pairwise\n",
    "\n",
    "subset_sizes = [5, 5, 4, 3, 2, 4, 4, 3]\n",
    "subset_color = [\n",
    "    \"gold\",\n",
    "    \"violet\",\n",
    "    \"violet\",\n",
    "    \"violet\",\n",
    "    \"violet\",\n",
    "    \"limegreen\",\n",
    "    \"limegreen\",\n",
    "    \"darkorange\",\n",
    "]\n",
    "\n",
    "\n",
    "def multilayered_graph(*subset_sizes):\n",
    "    extents = pairwise(itertools.accumulate((0,) + subset_sizes))\n",
    "    layers = [range(start, end) for start, end in extents]\n",
    "    G = nx.Graph()\n",
    "    for (i, layer) in enumerate(layers):\n",
    "        G.add_nodes_from(layer, layer=i)\n",
    "    for layer1, layer2 in pairwise(layers):\n",
    "        G.add_edges_from(itertools.product(layer1, layer2))\n",
    "    return G\n",
    "\n",
    "\n",
    "G = multilayered_graph(*subset_sizes)\n",
    "color = [subset_color[data[\"layer\"]] for v, data in G.nodes(data=True)]\n",
    "pos = nx.multipartite_layout(G, subset_key=\"layer\")\n",
    "plt.figure(figsize=(8, 8))\n",
    "nx.draw(G, pos, node_color=color, with_labels=False)\n",
    "plt.axis(\"equal\")\n",
    "plt.show()"
   ]
  },
  {
   "cell_type": "code",
   "execution_count": null,
   "metadata": {},
   "outputs": [],
   "source": [
    "import matplotlib.pyplot as plt\n",
    "import networkx as nx\n",
    "\n",
    "G = nx.star_graph(20)\n",
    "pos = nx.spring_layout(G)\n",
    "colors = range(20)\n",
    "options = {\n",
    "    \"node_color\": \"#A0CBE2\",\n",
    "    \"edge_color\": colors,\n",
    "    \"width\": 4,\n",
    "    \"edge_cmap\": plt.cm.Blues,\n",
    "    \"with_labels\": False,\n",
    "}\n",
    "nx.draw(G, pos, **options)\n",
    "plt.show()"
   ]
  },
  {
   "cell_type": "code",
   "execution_count": null,
   "metadata": {},
   "outputs": [],
   "source": []
  }
 ],
 "metadata": {
  "kernelspec": {
   "display_name": "Python 3",
   "language": "python",
   "name": "python3"
  },
  "language_info": {
   "codemirror_mode": {
    "name": "ipython",
    "version": 3
   },
   "file_extension": ".py",
   "mimetype": "text/x-python",
   "name": "python",
   "nbconvert_exporter": "python",
   "pygments_lexer": "ipython3",
   "version": "3.8.4"
  }
 },
 "nbformat": 4,
 "nbformat_minor": 4
}
